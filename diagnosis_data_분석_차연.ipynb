{
  "nbformat": 4,
  "nbformat_minor": 0,
  "metadata": {
    "colab": {
      "name": "diagnosis_data_분석_차연.ipynb",
      "provenance": [],
      "collapsed_sections": [],
      "authorship_tag": "ABX9TyNFbvY6AzNFI+jPgjf4ORPe",
      "include_colab_link": true
    },
    "kernelspec": {
      "name": "python3",
      "display_name": "Python 3"
    },
    "language_info": {
      "name": "python"
    }
  },
  "cells": [
    {
      "cell_type": "markdown",
      "metadata": {
        "id": "view-in-github",
        "colab_type": "text"
      },
      "source": [
        "<a href=\"https://colab.research.google.com/github/cyeonh/POSCO_Big_Data_Project/blob/main/diagnosis_data_%EB%B6%84%EC%84%9D_%EC%B0%A8%EC%97%B0.ipynb\" target=\"_parent\"><img src=\"https://colab.research.google.com/assets/colab-badge.svg\" alt=\"Open In Colab\"/></a>"
      ]
    },
    {
      "cell_type": "code",
      "execution_count": 1,
      "metadata": {
        "id": "bn-mvwDuOfYp"
      },
      "outputs": [],
      "source": [
        "import pandas as pd\n",
        "import numpy as np\n",
        "import seaborn as sns\n",
        "import matplotlib.pyplot as plt\n",
        "import matplotlib\n",
        "\n"
      ]
    },
    {
      "cell_type": "code",
      "source": [
        "df1 = pd.read_csv('Medical_Image_Data_01.csv', encoding='cp949')\n",
        "df2 = pd.read_csv('Patient_Diagnosis_Data.csv')\n",
        "df3 = pd.read_csv('Patient_Surgery_Data.csv')"
      ],
      "metadata": {
        "id": "tIH_ztHTOvgF"
      },
      "execution_count": 2,
      "outputs": []
    },
    {
      "cell_type": "code",
      "source": [
        "'''from google.colab import drive\n",
        "drive.mount('/content/drive')'''"
      ],
      "metadata": {
        "id": "YH73f1gC9hKq",
        "colab": {
          "base_uri": "https://localhost:8080/",
          "height": 35
        },
        "outputId": "b3b73fc2-e396-4c57-a857-5fdcd40c2e92"
      },
      "execution_count": 3,
      "outputs": [
        {
          "output_type": "execute_result",
          "data": {
            "text/plain": [
              "\"from google.colab import drive\\ndrive.mount('/content/drive')\""
            ],
            "application/vnd.google.colaboratory.intrinsic+json": {
              "type": "string"
            }
          },
          "metadata": {},
          "execution_count": 3
        }
      ]
    },
    {
      "cell_type": "code",
      "source": [
        "df2.head()"
      ],
      "metadata": {
        "id": "uFA1WXJibqC_",
        "colab": {
          "base_uri": "https://localhost:8080/",
          "height": 664
        },
        "outputId": "890b61b0-bd8c-4cef-c934-2e404ba8cbbd"
      },
      "execution_count": 4,
      "outputs": [
        {
          "output_type": "execute_result",
          "data": {
            "text/plain": [
              "  환자ID  Large Lymphocyte  Location of herniation   ODI  가족력  간질성폐질환  고혈압여부  \\\n",
              "0  1PT              22.8                       3  51.0  0.0       0      0   \n",
              "1  2PT              44.9                       4  26.0  0.0       0      0   \n",
              "2  3PT              53.0                       3   NaN  0.0       0      0   \n",
              "3  4PT              54.7                       4  18.0  0.0       0      1   \n",
              "4  5PT              53.8                       4   NaN  0.0       0      1   \n",
              "\n",
              "   과거수술횟수  당뇨여부  말초동맥질환여부  ...      입원일자  종양진행여부     직업    체중      퇴원일자  \\\n",
              "0       0     0         0  ...  20190713       0    자영업  60.3  20190716   \n",
              "1       0     0         0  ...  20190715       0   운동선수  71.7  20190716   \n",
              "2       1     0         0  ...  20190729       0  특수전문직  77.1  20190801   \n",
              "3       0     0         0  ...  20190731       0     주부  74.2  20190803   \n",
              "4       0     0         0  ...  20190903       0  특수전문직  80.7  20190907   \n",
              "\n",
              "   헤모글로빈수치  혈전합병증여부  환자통증정도  흡연여부  통증기간(월)  \n",
              "0    13.66        0      10     0      1.0  \n",
              "1    13.73        0      10     0      1.0  \n",
              "2    15.34        0       7     0      1.0  \n",
              "3    15.38        0       7     0      2.0  \n",
              "4    13.08        0       7     0      1.0  \n",
              "\n",
              "[5 rows x 30 columns]"
            ],
            "text/html": [
              "\n",
              "  <div id=\"df-823388fe-f04d-41ae-a9b4-c45535141c0b\">\n",
              "    <div class=\"colab-df-container\">\n",
              "      <div>\n",
              "<style scoped>\n",
              "    .dataframe tbody tr th:only-of-type {\n",
              "        vertical-align: middle;\n",
              "    }\n",
              "\n",
              "    .dataframe tbody tr th {\n",
              "        vertical-align: top;\n",
              "    }\n",
              "\n",
              "    .dataframe thead th {\n",
              "        text-align: right;\n",
              "    }\n",
              "</style>\n",
              "<table border=\"1\" class=\"dataframe\">\n",
              "  <thead>\n",
              "    <tr style=\"text-align: right;\">\n",
              "      <th></th>\n",
              "      <th>환자ID</th>\n",
              "      <th>Large Lymphocyte</th>\n",
              "      <th>Location of herniation</th>\n",
              "      <th>ODI</th>\n",
              "      <th>가족력</th>\n",
              "      <th>간질성폐질환</th>\n",
              "      <th>고혈압여부</th>\n",
              "      <th>과거수술횟수</th>\n",
              "      <th>당뇨여부</th>\n",
              "      <th>말초동맥질환여부</th>\n",
              "      <th>...</th>\n",
              "      <th>입원일자</th>\n",
              "      <th>종양진행여부</th>\n",
              "      <th>직업</th>\n",
              "      <th>체중</th>\n",
              "      <th>퇴원일자</th>\n",
              "      <th>헤모글로빈수치</th>\n",
              "      <th>혈전합병증여부</th>\n",
              "      <th>환자통증정도</th>\n",
              "      <th>흡연여부</th>\n",
              "      <th>통증기간(월)</th>\n",
              "    </tr>\n",
              "  </thead>\n",
              "  <tbody>\n",
              "    <tr>\n",
              "      <th>0</th>\n",
              "      <td>1PT</td>\n",
              "      <td>22.8</td>\n",
              "      <td>3</td>\n",
              "      <td>51.0</td>\n",
              "      <td>0.0</td>\n",
              "      <td>0</td>\n",
              "      <td>0</td>\n",
              "      <td>0</td>\n",
              "      <td>0</td>\n",
              "      <td>0</td>\n",
              "      <td>...</td>\n",
              "      <td>20190713</td>\n",
              "      <td>0</td>\n",
              "      <td>자영업</td>\n",
              "      <td>60.3</td>\n",
              "      <td>20190716</td>\n",
              "      <td>13.66</td>\n",
              "      <td>0</td>\n",
              "      <td>10</td>\n",
              "      <td>0</td>\n",
              "      <td>1.0</td>\n",
              "    </tr>\n",
              "    <tr>\n",
              "      <th>1</th>\n",
              "      <td>2PT</td>\n",
              "      <td>44.9</td>\n",
              "      <td>4</td>\n",
              "      <td>26.0</td>\n",
              "      <td>0.0</td>\n",
              "      <td>0</td>\n",
              "      <td>0</td>\n",
              "      <td>0</td>\n",
              "      <td>0</td>\n",
              "      <td>0</td>\n",
              "      <td>...</td>\n",
              "      <td>20190715</td>\n",
              "      <td>0</td>\n",
              "      <td>운동선수</td>\n",
              "      <td>71.7</td>\n",
              "      <td>20190716</td>\n",
              "      <td>13.73</td>\n",
              "      <td>0</td>\n",
              "      <td>10</td>\n",
              "      <td>0</td>\n",
              "      <td>1.0</td>\n",
              "    </tr>\n",
              "    <tr>\n",
              "      <th>2</th>\n",
              "      <td>3PT</td>\n",
              "      <td>53.0</td>\n",
              "      <td>3</td>\n",
              "      <td>NaN</td>\n",
              "      <td>0.0</td>\n",
              "      <td>0</td>\n",
              "      <td>0</td>\n",
              "      <td>1</td>\n",
              "      <td>0</td>\n",
              "      <td>0</td>\n",
              "      <td>...</td>\n",
              "      <td>20190729</td>\n",
              "      <td>0</td>\n",
              "      <td>특수전문직</td>\n",
              "      <td>77.1</td>\n",
              "      <td>20190801</td>\n",
              "      <td>15.34</td>\n",
              "      <td>0</td>\n",
              "      <td>7</td>\n",
              "      <td>0</td>\n",
              "      <td>1.0</td>\n",
              "    </tr>\n",
              "    <tr>\n",
              "      <th>3</th>\n",
              "      <td>4PT</td>\n",
              "      <td>54.7</td>\n",
              "      <td>4</td>\n",
              "      <td>18.0</td>\n",
              "      <td>0.0</td>\n",
              "      <td>0</td>\n",
              "      <td>1</td>\n",
              "      <td>0</td>\n",
              "      <td>0</td>\n",
              "      <td>0</td>\n",
              "      <td>...</td>\n",
              "      <td>20190731</td>\n",
              "      <td>0</td>\n",
              "      <td>주부</td>\n",
              "      <td>74.2</td>\n",
              "      <td>20190803</td>\n",
              "      <td>15.38</td>\n",
              "      <td>0</td>\n",
              "      <td>7</td>\n",
              "      <td>0</td>\n",
              "      <td>2.0</td>\n",
              "    </tr>\n",
              "    <tr>\n",
              "      <th>4</th>\n",
              "      <td>5PT</td>\n",
              "      <td>53.8</td>\n",
              "      <td>4</td>\n",
              "      <td>NaN</td>\n",
              "      <td>0.0</td>\n",
              "      <td>0</td>\n",
              "      <td>1</td>\n",
              "      <td>0</td>\n",
              "      <td>0</td>\n",
              "      <td>0</td>\n",
              "      <td>...</td>\n",
              "      <td>20190903</td>\n",
              "      <td>0</td>\n",
              "      <td>특수전문직</td>\n",
              "      <td>80.7</td>\n",
              "      <td>20190907</td>\n",
              "      <td>13.08</td>\n",
              "      <td>0</td>\n",
              "      <td>7</td>\n",
              "      <td>0</td>\n",
              "      <td>1.0</td>\n",
              "    </tr>\n",
              "  </tbody>\n",
              "</table>\n",
              "<p>5 rows × 30 columns</p>\n",
              "</div>\n",
              "      <button class=\"colab-df-convert\" onclick=\"convertToInteractive('df-823388fe-f04d-41ae-a9b4-c45535141c0b')\"\n",
              "              title=\"Convert this dataframe to an interactive table.\"\n",
              "              style=\"display:none;\">\n",
              "        \n",
              "  <svg xmlns=\"http://www.w3.org/2000/svg\" height=\"24px\"viewBox=\"0 0 24 24\"\n",
              "       width=\"24px\">\n",
              "    <path d=\"M0 0h24v24H0V0z\" fill=\"none\"/>\n",
              "    <path d=\"M18.56 5.44l.94 2.06.94-2.06 2.06-.94-2.06-.94-.94-2.06-.94 2.06-2.06.94zm-11 1L8.5 8.5l.94-2.06 2.06-.94-2.06-.94L8.5 2.5l-.94 2.06-2.06.94zm10 10l.94 2.06.94-2.06 2.06-.94-2.06-.94-.94-2.06-.94 2.06-2.06.94z\"/><path d=\"M17.41 7.96l-1.37-1.37c-.4-.4-.92-.59-1.43-.59-.52 0-1.04.2-1.43.59L10.3 9.45l-7.72 7.72c-.78.78-.78 2.05 0 2.83L4 21.41c.39.39.9.59 1.41.59.51 0 1.02-.2 1.41-.59l7.78-7.78 2.81-2.81c.8-.78.8-2.07 0-2.86zM5.41 20L4 18.59l7.72-7.72 1.47 1.35L5.41 20z\"/>\n",
              "  </svg>\n",
              "      </button>\n",
              "      \n",
              "  <style>\n",
              "    .colab-df-container {\n",
              "      display:flex;\n",
              "      flex-wrap:wrap;\n",
              "      gap: 12px;\n",
              "    }\n",
              "\n",
              "    .colab-df-convert {\n",
              "      background-color: #E8F0FE;\n",
              "      border: none;\n",
              "      border-radius: 50%;\n",
              "      cursor: pointer;\n",
              "      display: none;\n",
              "      fill: #1967D2;\n",
              "      height: 32px;\n",
              "      padding: 0 0 0 0;\n",
              "      width: 32px;\n",
              "    }\n",
              "\n",
              "    .colab-df-convert:hover {\n",
              "      background-color: #E2EBFA;\n",
              "      box-shadow: 0px 1px 2px rgba(60, 64, 67, 0.3), 0px 1px 3px 1px rgba(60, 64, 67, 0.15);\n",
              "      fill: #174EA6;\n",
              "    }\n",
              "\n",
              "    [theme=dark] .colab-df-convert {\n",
              "      background-color: #3B4455;\n",
              "      fill: #D2E3FC;\n",
              "    }\n",
              "\n",
              "    [theme=dark] .colab-df-convert:hover {\n",
              "      background-color: #434B5C;\n",
              "      box-shadow: 0px 1px 3px 1px rgba(0, 0, 0, 0.15);\n",
              "      filter: drop-shadow(0px 1px 2px rgba(0, 0, 0, 0.3));\n",
              "      fill: #FFFFFF;\n",
              "    }\n",
              "  </style>\n",
              "\n",
              "      <script>\n",
              "        const buttonEl =\n",
              "          document.querySelector('#df-823388fe-f04d-41ae-a9b4-c45535141c0b button.colab-df-convert');\n",
              "        buttonEl.style.display =\n",
              "          google.colab.kernel.accessAllowed ? 'block' : 'none';\n",
              "\n",
              "        async function convertToInteractive(key) {\n",
              "          const element = document.querySelector('#df-823388fe-f04d-41ae-a9b4-c45535141c0b');\n",
              "          const dataTable =\n",
              "            await google.colab.kernel.invokeFunction('convertToInteractive',\n",
              "                                                     [key], {});\n",
              "          if (!dataTable) return;\n",
              "\n",
              "          const docLinkHtml = 'Like what you see? Visit the ' +\n",
              "            '<a target=\"_blank\" href=https://colab.research.google.com/notebooks/data_table.ipynb>data table notebook</a>'\n",
              "            + ' to learn more about interactive tables.';\n",
              "          element.innerHTML = '';\n",
              "          dataTable['output_type'] = 'display_data';\n",
              "          await google.colab.output.renderOutput(dataTable, element);\n",
              "          const docLink = document.createElement('div');\n",
              "          docLink.innerHTML = docLinkHtml;\n",
              "          element.appendChild(docLink);\n",
              "        }\n",
              "      </script>\n",
              "    </div>\n",
              "  </div>\n",
              "  "
            ]
          },
          "metadata": {},
          "execution_count": 4
        }
      ]
    },
    {
      "cell_type": "code",
      "source": [
        "print(df2.info())"
      ],
      "metadata": {
        "id": "Q_I1-KuLSEfK",
        "colab": {
          "base_uri": "https://localhost:8080/"
        },
        "outputId": "92554e28-c063-4c67-9ad3-694f1e19ccc5"
      },
      "execution_count": 5,
      "outputs": [
        {
          "output_type": "stream",
          "name": "stdout",
          "text": [
            "<class 'pandas.core.frame.DataFrame'>\n",
            "RangeIndex: 1894 entries, 0 to 1893\n",
            "Data columns (total 30 columns):\n",
            " #   Column                  Non-Null Count  Dtype  \n",
            "---  ------                  --------------  -----  \n",
            " 0   환자ID                    1894 non-null   object \n",
            " 1   Large Lymphocyte        1894 non-null   float64\n",
            " 2   Location of herniation  1894 non-null   int64  \n",
            " 3   ODI                     462 non-null    float64\n",
            " 4   가족력                     1843 non-null   float64\n",
            " 5   간질성폐질환                  1894 non-null   int64  \n",
            " 6   고혈압여부                   1894 non-null   int64  \n",
            " 7   과거수술횟수                  1894 non-null   int64  \n",
            " 8   당뇨여부                    1894 non-null   int64  \n",
            " 9   말초동맥질환여부                1894 non-null   int64  \n",
            " 10  빈혈여부                    1894 non-null   int64  \n",
            " 11  성별                      1894 non-null   int64  \n",
            " 12  스테로이드치료                 1894 non-null   int64  \n",
            " 13  신부전여부                   1894 non-null   int64  \n",
            " 14  신장                      1894 non-null   int64  \n",
            " 15  심혈관질환                   1894 non-null   int64  \n",
            " 16  암발병여부                   1894 non-null   int64  \n",
            " 17  연령                      1894 non-null   int64  \n",
            " 18  우울증여부                   1894 non-null   int64  \n",
            " 19  입원기간                    1894 non-null   int64  \n",
            " 20  입원일자                    1894 non-null   int64  \n",
            " 21  종양진행여부                  1894 non-null   int64  \n",
            " 22  직업                      1479 non-null   object \n",
            " 23  체중                      1894 non-null   float64\n",
            " 24  퇴원일자                    1894 non-null   int64  \n",
            " 25  헤모글로빈수치                 1893 non-null   float64\n",
            " 26  혈전합병증여부                 1894 non-null   int64  \n",
            " 27  환자통증정도                  1894 non-null   int64  \n",
            " 28  흡연여부                    1894 non-null   int64  \n",
            " 29  통증기간(월)                 1890 non-null   float64\n",
            "dtypes: float64(6), int64(22), object(2)\n",
            "memory usage: 444.0+ KB\n",
            "None\n"
          ]
        }
      ]
    },
    {
      "cell_type": "markdown",
      "source": [
        "# 결측치 확인 및 처리"
      ],
      "metadata": {
        "id": "EP-WZMxmZtGE"
      }
    },
    {
      "cell_type": "markdown",
      "source": [
        "## 진단 데이터"
      ],
      "metadata": {
        "id": "M6xSpe5knjhS"
      }
    },
    {
      "cell_type": "code",
      "source": [
        "# 결측치 확인\n",
        "df2.isnull().sum()"
      ],
      "metadata": {
        "id": "NPOQWB1HUrPm",
        "colab": {
          "base_uri": "https://localhost:8080/"
        },
        "outputId": "93291cdc-926b-46d2-c1f3-5c2d3e1615c1"
      },
      "execution_count": 6,
      "outputs": [
        {
          "output_type": "execute_result",
          "data": {
            "text/plain": [
              "환자ID                         0\n",
              "Large Lymphocyte             0\n",
              "Location of herniation       0\n",
              "ODI                       1432\n",
              "가족력                         51\n",
              "간질성폐질환                       0\n",
              "고혈압여부                        0\n",
              "과거수술횟수                       0\n",
              "당뇨여부                         0\n",
              "말초동맥질환여부                     0\n",
              "빈혈여부                         0\n",
              "성별                           0\n",
              "스테로이드치료                      0\n",
              "신부전여부                        0\n",
              "신장                           0\n",
              "심혈관질환                        0\n",
              "암발병여부                        0\n",
              "연령                           0\n",
              "우울증여부                        0\n",
              "입원기간                         0\n",
              "입원일자                         0\n",
              "종양진행여부                       0\n",
              "직업                         415\n",
              "체중                           0\n",
              "퇴원일자                         0\n",
              "헤모글로빈수치                      1\n",
              "혈전합병증여부                      0\n",
              "환자통증정도                       0\n",
              "흡연여부                         0\n",
              "통증기간(월)                      4\n",
              "dtype: int64"
            ]
          },
          "metadata": {},
          "execution_count": 6
        }
      ]
    },
    {
      "cell_type": "markdown",
      "source": [
        "ODI 가족력, 직업, 헤모글로빈수치, 통증기간(월) 결측치 의심되는 값 위치"
      ],
      "metadata": {
        "id": "AFSU37CbZrf6"
      }
    },
    {
      "cell_type": "markdown",
      "source": [
        "통증기간(월) 의 경우 결측치의 경우 통증기간이 없었다고 가정한다. \n",
        "\n",
        "결측치 값을 0으로 대체한다."
      ],
      "metadata": {
        "id": "dgbpJtn8Zqfu"
      }
    },
    {
      "cell_type": "code",
      "source": [
        "df2['통증기간(월)'].fillna(0, inplace = True)"
      ],
      "metadata": {
        "id": "lR0vIielY_aS"
      },
      "execution_count": 7,
      "outputs": []
    },
    {
      "cell_type": "markdown",
      "source": [
        "헤모글로빈 수치의 경우 결측치가 1건 있다. \n",
        "\n",
        "헤모글로빈 수치는 수술을 할 때에 매우 중요한 수치이기 때문에 값을 대체할 경우 정보를 왜곡시킬 위험이 있다. 데이터의 수가 1800건 정도 있기 때문에 1건의 데이터를 삭제해도 영향이 크지 않을 것이다. \n",
        "\n",
        "결측치가 포함된 행을 삭제한다.\n"
      ],
      "metadata": {
        "id": "5EFIUfrTbZwf"
      }
    },
    {
      "cell_type": "code",
      "source": [
        "df2.dropna(subset=['헤모글로빈수치'], inplace = True)"
      ],
      "metadata": {
        "id": "c3ST1c33dyXw"
      },
      "execution_count": 8,
      "outputs": []
    },
    {
      "cell_type": "markdown",
      "source": [
        "직업의 경우 결측치가 총 415건으로 1800개 정도 되는 데이터에서 차지하는 비중이 크다. 결측치를 삭제하거나 최빈값으로 대체를 한다면 데이터를 왜곡시킬 위험이 있다. \n",
        "\n",
        " 따라서 결측치는 'other'로 대체하고 처리 방법은 나중에 고려하겠다."
      ],
      "metadata": {
        "id": "7n6pAUK7d9J7"
      }
    },
    {
      "cell_type": "code",
      "source": [
        "df2['직업'].fillna('other', inplace = True)"
      ],
      "metadata": {
        "id": "xFzEOB2Jfuon"
      },
      "execution_count": 9,
      "outputs": []
    },
    {
      "cell_type": "markdown",
      "source": [
        "ODI는 요통기능장애평가를 의미한다. 척추 질환 환자들에게 있어서 중요한 요소로 판단하여 제거하지 않고 대체한다. \n",
        "\n",
        "따라서 결측치는 'none'으로 대체한다. "
      ],
      "metadata": {
        "id": "qS5TvlXsf37K"
      }
    },
    {
      "cell_type": "code",
      "source": [
        "df2['ODI'].fillna('none', inplace = True)"
      ],
      "metadata": {
        "id": "CpVOF3CshOYL"
      },
      "execution_count": 10,
      "outputs": []
    },
    {
      "cell_type": "markdown",
      "source": [
        "가족력의 결측치의 경우 가족력이 없어서 작성하지 않은 것으로 판단한다. \n",
        "\n",
        "따라서 결측치는 0으로 대체한다. "
      ],
      "metadata": {
        "id": "hbdjSM0xhVFQ"
      }
    },
    {
      "cell_type": "code",
      "source": [
        "df2['가족력'].fillna('0', inplace = True)"
      ],
      "metadata": {
        "id": "VEpbUw0_hrL-"
      },
      "execution_count": 11,
      "outputs": []
    },
    {
      "cell_type": "markdown",
      "source": [
        "# 이상치 여부 확인 및 처리"
      ],
      "metadata": {
        "id": "CQIgtQ0khxdM"
      }
    },
    {
      "cell_type": "markdown",
      "source": [
        "입원기간"
      ],
      "metadata": {
        "id": "tB0xyMbEi7uM"
      }
    },
    {
      "cell_type": "code",
      "source": [
        "df2['입원기간'].plot.box()"
      ],
      "metadata": {
        "id": "os0CSDmch8hj",
        "colab": {
          "base_uri": "https://localhost:8080/",
          "height": 580
        },
        "outputId": "8c2bc498-62d6-479f-e9c0-f8171618596e"
      },
      "execution_count": 12,
      "outputs": [
        {
          "output_type": "execute_result",
          "data": {
            "text/plain": [
              "<matplotlib.axes._subplots.AxesSubplot at 0x7f3fa42ffcd0>"
            ]
          },
          "metadata": {},
          "execution_count": 12
        },
        {
          "output_type": "stream",
          "name": "stderr",
          "text": [
            "/usr/local/lib/python3.7/dist-packages/matplotlib/backends/backend_agg.py:214: RuntimeWarning: Glyph 51077 missing from current font.\n",
            "  font.set_text(s, 0.0, flags=flags)\n",
            "/usr/local/lib/python3.7/dist-packages/matplotlib/backends/backend_agg.py:214: RuntimeWarning: Glyph 50896 missing from current font.\n",
            "  font.set_text(s, 0.0, flags=flags)\n",
            "/usr/local/lib/python3.7/dist-packages/matplotlib/backends/backend_agg.py:214: RuntimeWarning: Glyph 44592 missing from current font.\n",
            "  font.set_text(s, 0.0, flags=flags)\n",
            "/usr/local/lib/python3.7/dist-packages/matplotlib/backends/backend_agg.py:214: RuntimeWarning: Glyph 44036 missing from current font.\n",
            "  font.set_text(s, 0.0, flags=flags)\n",
            "/usr/local/lib/python3.7/dist-packages/matplotlib/backends/backend_agg.py:183: RuntimeWarning: Glyph 51077 missing from current font.\n",
            "  font.set_text(s, 0, flags=flags)\n",
            "/usr/local/lib/python3.7/dist-packages/matplotlib/backends/backend_agg.py:183: RuntimeWarning: Glyph 50896 missing from current font.\n",
            "  font.set_text(s, 0, flags=flags)\n",
            "/usr/local/lib/python3.7/dist-packages/matplotlib/backends/backend_agg.py:183: RuntimeWarning: Glyph 44592 missing from current font.\n",
            "  font.set_text(s, 0, flags=flags)\n",
            "/usr/local/lib/python3.7/dist-packages/matplotlib/backends/backend_agg.py:183: RuntimeWarning: Glyph 44036 missing from current font.\n",
            "  font.set_text(s, 0, flags=flags)\n"
          ]
        },
        {
          "output_type": "display_data",
          "data": {
            "text/plain": [
              "<Figure size 432x288 with 1 Axes>"
            ],
            "image/png": "[encoded data removed]"
          },
          "metadata": {
            "needs_background": "light"
          }
        }
      ]
    },
    {
      "cell_type": "markdown",
      "source": [
        "입원기간의 이상치 값들을 살펴보자"
      ],
      "metadata": {
        "id": "LKhhpsNn-uQl"
      }
    },
    {
      "cell_type": "code",
      "source": [
        "df2['입원기간'].describe()"
      ],
      "metadata": {
        "id": "QSGhAHsR-WW_",
        "colab": {
          "base_uri": "https://localhost:8080/"
        },
        "outputId": "9978ca31-7585-4b1a-fe43-85d78f24959e"
      },
      "execution_count": 13,
      "outputs": [
        {
          "output_type": "execute_result",
          "data": {
            "text/plain": [
              "count    1893.000000\n",
              "mean        1.736926\n",
              "std         2.344643\n",
              "min         0.000000\n",
              "25%         1.000000\n",
              "50%         1.000000\n",
              "75%         2.000000\n",
              "max        51.000000\n",
              "Name: 입원기간, dtype: float64"
            ]
          },
          "metadata": {},
          "execution_count": 13
        }
      ]
    },
    {
      "cell_type": "code",
      "source": [
        "hospit = df2['입원기간'] > 2 + 1.5* (2.0-1.0)\n",
        "df2[hospit][['입원기간', '연령']].sort_values(by = '입원기간', ascending=False)"
      ],
      "metadata": {
        "id": "-hU1WA8JCGi5",
        "colab": {
          "base_uri": "https://localhost:8080/",
          "height": 424
        },
        "outputId": "3a4b7089-6a38-4eec-edbf-62117a710ca8"
      },
      "execution_count": 14,
      "outputs": [
        {
          "output_type": "execute_result",
          "data": {
            "text/plain": [
              "      입원기간  연령\n",
              "1859    51  36\n",
              "1431    46  57\n",
              "1371    44  30\n",
              "1382    27  82\n",
              "1577    18  71\n",
              "...    ...  ..\n",
              "974      4  56\n",
              "1445     4  41\n",
              "1446     4  45\n",
              "1526     4  64\n",
              "1892     4  29\n",
              "\n",
              "[76 rows x 2 columns]"
            ],
            "text/html": [
              "\n",
              "  <div id=\"df-8ea17464-c9f0-46bc-919c-2bf975626fad\">\n",
              "    <div class=\"colab-df-container\">\n",
              "      <div>\n",
              "<style scoped>\n",
              "    .dataframe tbody tr th:only-of-type {\n",
              "        vertical-align: middle;\n",
              "    }\n",
              "\n",
              "    .dataframe tbody tr th {\n",
              "        vertical-align: top;\n",
              "    }\n",
              "\n",
              "    .dataframe thead th {\n",
              "        text-align: right;\n",
              "    }\n",
              "</style>\n",
              "<table border=\"1\" class=\"dataframe\">\n",
              "  <thead>\n",
              "    <tr style=\"text-align: right;\">\n",
              "      <th></th>\n",
              "      <th>입원기간</th>\n",
              "      <th>연령</th>\n",
              "    </tr>\n",
              "  </thead>\n",
              "  <tbody>\n",
              "    <tr>\n",
              "      <th>1859</th>\n",
              "      <td>51</td>\n",
              "      <td>36</td>\n",
              "    </tr>\n",
              "    <tr>\n",
              "      <th>1431</th>\n",
              "      <td>46</td>\n",
              "      <td>57</td>\n",
              "    </tr>\n",
              "    <tr>\n",
              "      <th>1371</th>\n",
              "      <td>44</td>\n",
              "      <td>30</td>\n",
              "    </tr>\n",
              "    <tr>\n",
              "      <th>1382</th>\n",
              "      <td>27</td>\n",
              "      <td>82</td>\n",
              "    </tr>\n",
              "    <tr>\n",
              "      <th>1577</th>\n",
              "      <td>18</td>\n",
              "      <td>71</td>\n",
              "    </tr>\n",
              "    <tr>\n",
              "      <th>...</th>\n",
              "      <td>...</td>\n",
              "      <td>...</td>\n",
              "    </tr>\n",
              "    <tr>\n",
              "      <th>974</th>\n",
              "      <td>4</td>\n",
              "      <td>56</td>\n",
              "    </tr>\n",
              "    <tr>\n",
              "      <th>1445</th>\n",
              "      <td>4</td>\n",
              "      <td>41</td>\n",
              "    </tr>\n",
              "    <tr>\n",
              "      <th>1446</th>\n",
              "      <td>4</td>\n",
              "      <td>45</td>\n",
              "    </tr>\n",
              "    <tr>\n",
              "      <th>1526</th>\n",
              "      <td>4</td>\n",
              "      <td>64</td>\n",
              "    </tr>\n",
              "    <tr>\n",
              "      <th>1892</th>\n",
              "      <td>4</td>\n",
              "      <td>29</td>\n",
              "    </tr>\n",
              "  </tbody>\n",
              "</table>\n",
              "<p>76 rows × 2 columns</p>\n",
              "</div>\n",
              "      <button class=\"colab-df-convert\" onclick=\"convertToInteractive('df-8ea17464-c9f0-46bc-919c-2bf975626fad')\"\n",
              "              title=\"Convert this dataframe to an interactive table.\"\n",
              "              style=\"display:none;\">\n",
              "        \n",
              "  <svg xmlns=\"http://www.w3.org/2000/svg\" height=\"24px\"viewBox=\"0 0 24 24\"\n",
              "       width=\"24px\">\n",
              "    <path d=\"M0 0h24v24H0V0z\" fill=\"none\"/>\n",
              "    <path d=\"M18.56 5.44l.94 2.06.94-2.06 2.06-.94-2.06-.94-.94-2.06-.94 2.06-2.06.94zm-11 1L8.5 8.5l.94-2.06 2.06-.94-2.06-.94L8.5 2.5l-.94 2.06-2.06.94zm10 10l.94 2.06.94-2.06 2.06-.94-2.06-.94-.94-2.06-.94 2.06-2.06.94z\"/><path d=\"M17.41 7.96l-1.37-1.37c-.4-.4-.92-.59-1.43-.59-.52 0-1.04.2-1.43.59L10.3 9.45l-7.72 7.72c-.78.78-.78 2.05 0 2.83L4 21.41c.39.39.9.59 1.41.59.51 0 1.02-.2 1.41-.59l7.78-7.78 2.81-2.81c.8-.78.8-2.07 0-2.86zM5.41 20L4 18.59l7.72-7.72 1.47 1.35L5.41 20z\"/>\n",
              "  </svg>\n",
              "      </button>\n",
              "      \n",
              "  <style>\n",
              "    .colab-df-container {\n",
              "      display:flex;\n",
              "      flex-wrap:wrap;\n",
              "      gap: 12px;\n",
              "    }\n",
              "\n",
              "    .colab-df-convert {\n",
              "      background-color: #E8F0FE;\n",
              "      border: none;\n",
              "      border-radius: 50%;\n",
              "      cursor: pointer;\n",
              "      display: none;\n",
              "      fill: #1967D2;\n",
              "      height: 32px;\n",
              "      padding: 0 0 0 0;\n",
              "      width: 32px;\n",
              "    }\n",
              "\n",
              "    .colab-df-convert:hover {\n",
              "      background-color: #E2EBFA;\n",
              "      box-shadow: 0px 1px 2px rgba(60, 64, 67, 0.3), 0px 1px 3px 1px rgba(60, 64, 67, 0.15);\n",
              "      fill: #174EA6;\n",
              "    }\n",
              "\n",
              "    [theme=dark] .colab-df-convert {\n",
              "      background-color: #3B4455;\n",
              "      fill: #D2E3FC;\n",
              "    }\n",
              "\n",
              "    [theme=dark] .colab-df-convert:hover {\n",
              "      background-color: #434B5C;\n",
              "      box-shadow: 0px 1px 3px 1px rgba(0, 0, 0, 0.15);\n",
              "      filter: drop-shadow(0px 1px 2px rgba(0, 0, 0, 0.3));\n",
              "      fill: #FFFFFF;\n",
              "    }\n",
              "  </style>\n",
              "\n",
              "      <script>\n",
              "        const buttonEl =\n",
              "          document.querySelector('#df-8ea17464-c9f0-46bc-919c-2bf975626fad button.colab-df-convert');\n",
              "        buttonEl.style.display =\n",
              "          google.colab.kernel.accessAllowed ? 'block' : 'none';\n",
              "\n",
              "        async function convertToInteractive(key) {\n",
              "          const element = document.querySelector('#df-8ea17464-c9f0-46bc-919c-2bf975626fad');\n",
              "          const dataTable =\n",
              "            await google.colab.kernel.invokeFunction('convertToInteractive',\n",
              "                                                     [key], {});\n",
              "          if (!dataTable) return;\n",
              "\n",
              "          const docLinkHtml = 'Like what you see? Visit the ' +\n",
              "            '<a target=\"_blank\" href=https://colab.research.google.com/notebooks/data_table.ipynb>data table notebook</a>'\n",
              "            + ' to learn more about interactive tables.';\n",
              "          element.innerHTML = '';\n",
              "          dataTable['output_type'] = 'display_data';\n",
              "          await google.colab.output.renderOutput(dataTable, element);\n",
              "          const docLink = document.createElement('div');\n",
              "          docLink.innerHTML = docLinkHtml;\n",
              "          element.appendChild(docLink);\n",
              "        }\n",
              "      </script>\n",
              "    </div>\n",
              "  </div>\n",
              "  "
            ]
          },
          "metadata": {},
          "execution_count": 14
        }
      ]
    },
    {
      "cell_type": "markdown",
      "source": [
        "입원기간 이상치로 예측되는 값을 살펴보니, 최장 입원 환자의 입원 기간은 51개월이고 연령은 36세이다. 나머지 이상치 예측값들도 기한은 길지만, 연령이 높은 편이기에 장기입원 환자라고 볼 수 있다. \n",
        "\n",
        "따라서 입원기간 데이터에는 이상치가 없다. "
      ],
      "metadata": {
        "id": "BtG7Jr15-jxT"
      }
    },
    {
      "cell_type": "markdown",
      "source": [
        "입원일자"
      ],
      "metadata": {
        "id": "L41hjFQ5KPa2"
      }
    },
    {
      "cell_type": "code",
      "source": [
        "df2['입원일자'].plot.box()"
      ],
      "metadata": {
        "id": "vvzJeLlii130",
        "colab": {
          "base_uri": "https://localhost:8080/",
          "height": 591
        },
        "outputId": "acda6ab0-0cfd-4553-fe23-25eccc2483be"
      },
      "execution_count": 15,
      "outputs": [
        {
          "output_type": "execute_result",
          "data": {
            "text/plain": [
              "<matplotlib.axes._subplots.AxesSubplot at 0x7f3fa426af50>"
            ]
          },
          "metadata": {},
          "execution_count": 15
        },
        {
          "output_type": "stream",
          "name": "stderr",
          "text": [
            "/usr/local/lib/python3.7/dist-packages/matplotlib/backends/backend_agg.py:214: RuntimeWarning: Glyph 51077 missing from current font.\n",
            "  font.set_text(s, 0.0, flags=flags)\n",
            "/usr/local/lib/python3.7/dist-packages/matplotlib/backends/backend_agg.py:214: RuntimeWarning: Glyph 50896 missing from current font.\n",
            "  font.set_text(s, 0.0, flags=flags)\n",
            "/usr/local/lib/python3.7/dist-packages/matplotlib/backends/backend_agg.py:214: RuntimeWarning: Glyph 51068 missing from current font.\n",
            "  font.set_text(s, 0.0, flags=flags)\n",
            "/usr/local/lib/python3.7/dist-packages/matplotlib/backends/backend_agg.py:214: RuntimeWarning: Glyph 51088 missing from current font.\n",
            "  font.set_text(s, 0.0, flags=flags)\n",
            "/usr/local/lib/python3.7/dist-packages/matplotlib/backends/backend_agg.py:183: RuntimeWarning: Glyph 51077 missing from current font.\n",
            "  font.set_text(s, 0, flags=flags)\n",
            "/usr/local/lib/python3.7/dist-packages/matplotlib/backends/backend_agg.py:183: RuntimeWarning: Glyph 50896 missing from current font.\n",
            "  font.set_text(s, 0, flags=flags)\n",
            "/usr/local/lib/python3.7/dist-packages/matplotlib/backends/backend_agg.py:183: RuntimeWarning: Glyph 51068 missing from current font.\n",
            "  font.set_text(s, 0, flags=flags)\n",
            "/usr/local/lib/python3.7/dist-packages/matplotlib/backends/backend_agg.py:183: RuntimeWarning: Glyph 51088 missing from current font.\n",
            "  font.set_text(s, 0, flags=flags)\n"
          ]
        },
        {
          "output_type": "display_data",
          "data": {
            "text/plain": [
              "<Figure size 432x288 with 1 Axes>"
            ],
            "image/png": "[encoded data removed]"
          },
          "metadata": {
            "needs_background": "light"
          }
        }
      ]
    },
    {
      "cell_type": "markdown",
      "source": [
        "헤모글로빈수치"
      ],
      "metadata": {
        "id": "Gv1Wuss6KS9r"
      }
    },
    {
      "cell_type": "code",
      "source": [
        "df2['헤모글로빈수치'].plot.box()"
      ],
      "metadata": {
        "id": "awJmAxmDIy3q",
        "colab": {
          "base_uri": "https://localhost:8080/",
          "height": 802
        },
        "outputId": "30394faf-3aed-41a1-afd2-ccc5f6e56a61"
      },
      "execution_count": 16,
      "outputs": [
        {
          "output_type": "execute_result",
          "data": {
            "text/plain": [
              "<matplotlib.axes._subplots.AxesSubplot at 0x7f3fa3d985d0>"
            ]
          },
          "metadata": {},
          "execution_count": 16
        },
        {
          "output_type": "stream",
          "name": "stderr",
          "text": [
            "/usr/local/lib/python3.7/dist-packages/matplotlib/backends/backend_agg.py:214: RuntimeWarning: Glyph 54756 missing from current font.\n",
            "  font.set_text(s, 0.0, flags=flags)\n",
            "/usr/local/lib/python3.7/dist-packages/matplotlib/backends/backend_agg.py:214: RuntimeWarning: Glyph 47784 missing from current font.\n",
            "  font.set_text(s, 0.0, flags=flags)\n",
            "/usr/local/lib/python3.7/dist-packages/matplotlib/backends/backend_agg.py:214: RuntimeWarning: Glyph 44544 missing from current font.\n",
            "  font.set_text(s, 0.0, flags=flags)\n",
            "/usr/local/lib/python3.7/dist-packages/matplotlib/backends/backend_agg.py:214: RuntimeWarning: Glyph 47196 missing from current font.\n",
            "  font.set_text(s, 0.0, flags=flags)\n",
            "/usr/local/lib/python3.7/dist-packages/matplotlib/backends/backend_agg.py:214: RuntimeWarning: Glyph 48712 missing from current font.\n",
            "  font.set_text(s, 0.0, flags=flags)\n",
            "/usr/local/lib/python3.7/dist-packages/matplotlib/backends/backend_agg.py:214: RuntimeWarning: Glyph 49688 missing from current font.\n",
            "  font.set_text(s, 0.0, flags=flags)\n",
            "/usr/local/lib/python3.7/dist-packages/matplotlib/backends/backend_agg.py:214: RuntimeWarning: Glyph 52824 missing from current font.\n",
            "  font.set_text(s, 0.0, flags=flags)\n",
            "/usr/local/lib/python3.7/dist-packages/matplotlib/backends/backend_agg.py:183: RuntimeWarning: Glyph 54756 missing from current font.\n",
            "  font.set_text(s, 0, flags=flags)\n",
            "/usr/local/lib/python3.7/dist-packages/matplotlib/backends/backend_agg.py:183: RuntimeWarning: Glyph 47784 missing from current font.\n",
            "  font.set_text(s, 0, flags=flags)\n",
            "/usr/local/lib/python3.7/dist-packages/matplotlib/backends/backend_agg.py:183: RuntimeWarning: Glyph 44544 missing from current font.\n",
            "  font.set_text(s, 0, flags=flags)\n",
            "/usr/local/lib/python3.7/dist-packages/matplotlib/backends/backend_agg.py:183: RuntimeWarning: Glyph 47196 missing from current font.\n",
            "  font.set_text(s, 0, flags=flags)\n",
            "/usr/local/lib/python3.7/dist-packages/matplotlib/backends/backend_agg.py:183: RuntimeWarning: Glyph 48712 missing from current font.\n",
            "  font.set_text(s, 0, flags=flags)\n",
            "/usr/local/lib/python3.7/dist-packages/matplotlib/backends/backend_agg.py:183: RuntimeWarning: Glyph 49688 missing from current font.\n",
            "  font.set_text(s, 0, flags=flags)\n",
            "/usr/local/lib/python3.7/dist-packages/matplotlib/backends/backend_agg.py:183: RuntimeWarning: Glyph 52824 missing from current font.\n",
            "  font.set_text(s, 0, flags=flags)\n"
          ]
        },
        {
          "output_type": "display_data",
          "data": {
            "text/plain": [
              "<Figure size 432x288 with 1 Axes>"
            ],
            "image/png": "[encoded data removed]"
          },
          "metadata": {
            "needs_background": "light"
          }
        }
      ]
    },
    {
      "cell_type": "markdown",
      "source": [
        "건강한 헤모글로빈 수치는 12~18 사이에 위치한다. 하지만 이것보다 낮거나 높은 값도 있을 수 있다. 헤모글로빈 수치가 0 이거나 0보다 작은 값이 있는지만 확인한다. \n"
      ],
      "metadata": {
        "id": "tj3ZOYMkI4D-"
      }
    },
    {
      "cell_type": "code",
      "source": [
        "df2[df2['헤모글로빈수치']<=0]"
      ],
      "metadata": {
        "id": "_iX1JgueJ6UY",
        "colab": {
          "base_uri": "https://localhost:8080/",
          "height": 264
        },
        "outputId": "2e88ee9a-5a99-4b85-fc07-95e3b5bc5e35"
      },
      "execution_count": 17,
      "outputs": [
        {
          "output_type": "execute_result",
          "data": {
            "text/plain": [
              "Empty DataFrame\n",
              "Columns: [환자ID, Large Lymphocyte, Location of herniation, ODI, 가족력, 간질성폐질환, 고혈압여부, 과거수술횟수, 당뇨여부, 말초동맥질환여부, 빈혈여부, 성별, 스테로이드치료, 신부전여부, 신장, 심혈관질환, 암발병여부, 연령, 우울증여부, 입원기간, 입원일자, 종양진행여부, 직업, 체중, 퇴원일자, 헤모글로빈수치, 혈전합병증여부, 환자통증정도, 흡연여부, 통증기간(월)]\n",
              "Index: []\n",
              "\n",
              "[0 rows x 30 columns]"
            ],
            "text/html": [
              "\n",
              "  <div id=\"df-d47ef479-1c52-49d2-90c4-aaa9e038aa4e\">\n",
              "    <div class=\"colab-df-container\">\n",
              "      <div>\n",
              "<style scoped>\n",
              "    .dataframe tbody tr th:only-of-type {\n",
              "        vertical-align: middle;\n",
              "    }\n",
              "\n",
              "    .dataframe tbody tr th {\n",
              "        vertical-align: top;\n",
              "    }\n",
              "\n",
              "    .dataframe thead th {\n",
              "        text-align: right;\n",
              "    }\n",
              "</style>\n",
              "<table border=\"1\" class=\"dataframe\">\n",
              "  <thead>\n",
              "    <tr style=\"text-align: right;\">\n",
              "      <th></th>\n",
              "      <th>환자ID</th>\n",
              "      <th>Large Lymphocyte</th>\n",
              "      <th>Location of herniation</th>\n",
              "      <th>ODI</th>\n",
              "      <th>가족력</th>\n",
              "      <th>간질성폐질환</th>\n",
              "      <th>고혈압여부</th>\n",
              "      <th>과거수술횟수</th>\n",
              "      <th>당뇨여부</th>\n",
              "      <th>말초동맥질환여부</th>\n",
              "      <th>...</th>\n",
              "      <th>입원일자</th>\n",
              "      <th>종양진행여부</th>\n",
              "      <th>직업</th>\n",
              "      <th>체중</th>\n",
              "      <th>퇴원일자</th>\n",
              "      <th>헤모글로빈수치</th>\n",
              "      <th>혈전합병증여부</th>\n",
              "      <th>환자통증정도</th>\n",
              "      <th>흡연여부</th>\n",
              "      <th>통증기간(월)</th>\n",
              "    </tr>\n",
              "  </thead>\n",
              "  <tbody>\n",
              "  </tbody>\n",
              "</table>\n",
              "<p>0 rows × 30 columns</p>\n",
              "</div>\n",
              "      <button class=\"colab-df-convert\" onclick=\"convertToInteractive('df-d47ef479-1c52-49d2-90c4-aaa9e038aa4e')\"\n",
              "              title=\"Convert this dataframe to an interactive table.\"\n",
              "              style=\"display:none;\">\n",
              "        \n",
              "  <svg xmlns=\"http://www.w3.org/2000/svg\" height=\"24px\"viewBox=\"0 0 24 24\"\n",
              "       width=\"24px\">\n",
              "    <path d=\"M0 0h24v24H0V0z\" fill=\"none\"/>\n",
              "    <path d=\"M18.56 5.44l.94 2.06.94-2.06 2.06-.94-2.06-.94-.94-2.06-.94 2.06-2.06.94zm-11 1L8.5 8.5l.94-2.06 2.06-.94-2.06-.94L8.5 2.5l-.94 2.06-2.06.94zm10 10l.94 2.06.94-2.06 2.06-.94-2.06-.94-.94-2.06-.94 2.06-2.06.94z\"/><path d=\"M17.41 7.96l-1.37-1.37c-.4-.4-.92-.59-1.43-.59-.52 0-1.04.2-1.43.59L10.3 9.45l-7.72 7.72c-.78.78-.78 2.05 0 2.83L4 21.41c.39.39.9.59 1.41.59.51 0 1.02-.2 1.41-.59l7.78-7.78 2.81-2.81c.8-.78.8-2.07 0-2.86zM5.41 20L4 18.59l7.72-7.72 1.47 1.35L5.41 20z\"/>\n",
              "  </svg>\n",
              "      </button>\n",
              "      \n",
              "  <style>\n",
              "    .colab-df-container {\n",
              "      display:flex;\n",
              "      flex-wrap:wrap;\n",
              "      gap: 12px;\n",
              "    }\n",
              "\n",
              "    .colab-df-convert {\n",
              "      background-color: #E8F0FE;\n",
              "      border: none;\n",
              "      border-radius: 50%;\n",
              "      cursor: pointer;\n",
              "      display: none;\n",
              "      fill: #1967D2;\n",
              "      height: 32px;\n",
              "      padding: 0 0 0 0;\n",
              "      width: 32px;\n",
              "    }\n",
              "\n",
              "    .colab-df-convert:hover {\n",
              "      background-color: #E2EBFA;\n",
              "      box-shadow: 0px 1px 2px rgba(60, 64, 67, 0.3), 0px 1px 3px 1px rgba(60, 64, 67, 0.15);\n",
              "      fill: #174EA6;\n",
              "    }\n",
              "\n",
              "    [theme=dark] .colab-df-convert {\n",
              "      background-color: #3B4455;\n",
              "      fill: #D2E3FC;\n",
              "    }\n",
              "\n",
              "    [theme=dark] .colab-df-convert:hover {\n",
              "      background-color: #434B5C;\n",
              "      box-shadow: 0px 1px 3px 1px rgba(0, 0, 0, 0.15);\n",
              "      filter: drop-shadow(0px 1px 2px rgba(0, 0, 0, 0.3));\n",
              "      fill: #FFFFFF;\n",
              "    }\n",
              "  </style>\n",
              "\n",
              "      <script>\n",
              "        const buttonEl =\n",
              "          document.querySelector('#df-d47ef479-1c52-49d2-90c4-aaa9e038aa4e button.colab-df-convert');\n",
              "        buttonEl.style.display =\n",
              "          google.colab.kernel.accessAllowed ? 'block' : 'none';\n",
              "\n",
              "        async function convertToInteractive(key) {\n",
              "          const element = document.querySelector('#df-d47ef479-1c52-49d2-90c4-aaa9e038aa4e');\n",
              "          const dataTable =\n",
              "            await google.colab.kernel.invokeFunction('convertToInteractive',\n",
              "                                                     [key], {});\n",
              "          if (!dataTable) return;\n",
              "\n",
              "          const docLinkHtml = 'Like what you see? Visit the ' +\n",
              "            '<a target=\"_blank\" href=https://colab.research.google.com/notebooks/data_table.ipynb>data table notebook</a>'\n",
              "            + ' to learn more about interactive tables.';\n",
              "          element.innerHTML = '';\n",
              "          dataTable['output_type'] = 'display_data';\n",
              "          await google.colab.output.renderOutput(dataTable, element);\n",
              "          const docLink = document.createElement('div');\n",
              "          docLink.innerHTML = docLinkHtml;\n",
              "          element.appendChild(docLink);\n",
              "        }\n",
              "      </script>\n",
              "    </div>\n",
              "  </div>\n",
              "  "
            ]
          },
          "metadata": {},
          "execution_count": 17
        }
      ]
    },
    {
      "cell_type": "markdown",
      "source": [
        "헤모글로빈 수치가 정상 범위를 벗어난 경우는 있지만, 이상치로 볼만한 데이터는 없다. "
      ],
      "metadata": {
        "id": "_rmBqIl2KBNk"
      }
    },
    {
      "cell_type": "markdown",
      "source": [
        "환자통증정도"
      ],
      "metadata": {
        "id": "wTgJWY-3PZ1u"
      }
    },
    {
      "cell_type": "code",
      "source": [
        "df2['환자통증정도'].plot.box()"
      ],
      "metadata": {
        "id": "4N-BfEnxKWi5",
        "colab": {
          "base_uri": "https://localhost:8080/",
          "height": 728
        },
        "outputId": "7aa0269a-19fa-45c7-a2eb-51b1868b72e2"
      },
      "execution_count": 18,
      "outputs": [
        {
          "output_type": "execute_result",
          "data": {
            "text/plain": [
              "<matplotlib.axes._subplots.AxesSubplot at 0x7f3fa3cff750>"
            ]
          },
          "metadata": {},
          "execution_count": 18
        },
        {
          "output_type": "stream",
          "name": "stderr",
          "text": [
            "/usr/local/lib/python3.7/dist-packages/matplotlib/backends/backend_agg.py:214: RuntimeWarning: Glyph 54872 missing from current font.\n",
            "  font.set_text(s, 0.0, flags=flags)\n",
            "/usr/local/lib/python3.7/dist-packages/matplotlib/backends/backend_agg.py:214: RuntimeWarning: Glyph 51088 missing from current font.\n",
            "  font.set_text(s, 0.0, flags=flags)\n",
            "/usr/local/lib/python3.7/dist-packages/matplotlib/backends/backend_agg.py:214: RuntimeWarning: Glyph 53685 missing from current font.\n",
            "  font.set_text(s, 0.0, flags=flags)\n",
            "/usr/local/lib/python3.7/dist-packages/matplotlib/backends/backend_agg.py:214: RuntimeWarning: Glyph 51613 missing from current font.\n",
            "  font.set_text(s, 0.0, flags=flags)\n",
            "/usr/local/lib/python3.7/dist-packages/matplotlib/backends/backend_agg.py:214: RuntimeWarning: Glyph 51221 missing from current font.\n",
            "  font.set_text(s, 0.0, flags=flags)\n",
            "/usr/local/lib/python3.7/dist-packages/matplotlib/backends/backend_agg.py:214: RuntimeWarning: Glyph 46020 missing from current font.\n",
            "  font.set_text(s, 0.0, flags=flags)\n",
            "/usr/local/lib/python3.7/dist-packages/matplotlib/backends/backend_agg.py:183: RuntimeWarning: Glyph 54872 missing from current font.\n",
            "  font.set_text(s, 0, flags=flags)\n",
            "/usr/local/lib/python3.7/dist-packages/matplotlib/backends/backend_agg.py:183: RuntimeWarning: Glyph 51088 missing from current font.\n",
            "  font.set_text(s, 0, flags=flags)\n",
            "/usr/local/lib/python3.7/dist-packages/matplotlib/backends/backend_agg.py:183: RuntimeWarning: Glyph 53685 missing from current font.\n",
            "  font.set_text(s, 0, flags=flags)\n",
            "/usr/local/lib/python3.7/dist-packages/matplotlib/backends/backend_agg.py:183: RuntimeWarning: Glyph 51613 missing from current font.\n",
            "  font.set_text(s, 0, flags=flags)\n",
            "/usr/local/lib/python3.7/dist-packages/matplotlib/backends/backend_agg.py:183: RuntimeWarning: Glyph 51221 missing from current font.\n",
            "  font.set_text(s, 0, flags=flags)\n",
            "/usr/local/lib/python3.7/dist-packages/matplotlib/backends/backend_agg.py:183: RuntimeWarning: Glyph 46020 missing from current font.\n",
            "  font.set_text(s, 0, flags=flags)\n"
          ]
        },
        {
          "output_type": "display_data",
          "data": {
            "text/plain": [
              "<Figure size 432x288 with 1 Axes>"
            ],
            "image/png": "[encoded data removed]"
          },
          "metadata": {
            "needs_background": "light"
          }
        }
      ]
    },
    {
      "cell_type": "markdown",
      "source": [
        "환자 통증 정도는 1~10 점으로 나뉘는 환자의 주관적 척도이다. 이상치가 의심되는 점들을 보면 1 과 10 사이에 들어오는 값들이다. \n",
        "\n",
        "따라서 환자통증 정도에는 이상치가 없다"
      ],
      "metadata": {
        "id": "BKtLAgx9LQWU"
      }
    },
    {
      "cell_type": "markdown",
      "source": [
        "통증기간"
      ],
      "metadata": {
        "id": "W3yaC0xDPUtn"
      }
    },
    {
      "cell_type": "code",
      "source": [
        "df2['통증기간(월)'].plot.box()"
      ],
      "metadata": {
        "id": "SVWjm0AgLjJK",
        "colab": {
          "base_uri": "https://localhost:8080/",
          "height": 654
        },
        "outputId": "8385df93-d64a-462f-823f-1ec3ab504f0c"
      },
      "execution_count": 19,
      "outputs": [
        {
          "output_type": "execute_result",
          "data": {
            "text/plain": [
              "<matplotlib.axes._subplots.AxesSubplot at 0x7f3fa3c760d0>"
            ]
          },
          "metadata": {},
          "execution_count": 19
        },
        {
          "output_type": "stream",
          "name": "stderr",
          "text": [
            "/usr/local/lib/python3.7/dist-packages/matplotlib/backends/backend_agg.py:214: RuntimeWarning: Glyph 53685 missing from current font.\n",
            "  font.set_text(s, 0.0, flags=flags)\n",
            "/usr/local/lib/python3.7/dist-packages/matplotlib/backends/backend_agg.py:214: RuntimeWarning: Glyph 51613 missing from current font.\n",
            "  font.set_text(s, 0.0, flags=flags)\n",
            "/usr/local/lib/python3.7/dist-packages/matplotlib/backends/backend_agg.py:214: RuntimeWarning: Glyph 44592 missing from current font.\n",
            "  font.set_text(s, 0.0, flags=flags)\n",
            "/usr/local/lib/python3.7/dist-packages/matplotlib/backends/backend_agg.py:214: RuntimeWarning: Glyph 44036 missing from current font.\n",
            "  font.set_text(s, 0.0, flags=flags)\n",
            "/usr/local/lib/python3.7/dist-packages/matplotlib/backends/backend_agg.py:214: RuntimeWarning: Glyph 50900 missing from current font.\n",
            "  font.set_text(s, 0.0, flags=flags)\n",
            "/usr/local/lib/python3.7/dist-packages/matplotlib/backends/backend_agg.py:183: RuntimeWarning: Glyph 53685 missing from current font.\n",
            "  font.set_text(s, 0, flags=flags)\n",
            "/usr/local/lib/python3.7/dist-packages/matplotlib/backends/backend_agg.py:183: RuntimeWarning: Glyph 51613 missing from current font.\n",
            "  font.set_text(s, 0, flags=flags)\n",
            "/usr/local/lib/python3.7/dist-packages/matplotlib/backends/backend_agg.py:183: RuntimeWarning: Glyph 44592 missing from current font.\n",
            "  font.set_text(s, 0, flags=flags)\n",
            "/usr/local/lib/python3.7/dist-packages/matplotlib/backends/backend_agg.py:183: RuntimeWarning: Glyph 44036 missing from current font.\n",
            "  font.set_text(s, 0, flags=flags)\n",
            "/usr/local/lib/python3.7/dist-packages/matplotlib/backends/backend_agg.py:183: RuntimeWarning: Glyph 50900 missing from current font.\n",
            "  font.set_text(s, 0, flags=flags)\n"
          ]
        },
        {
          "output_type": "display_data",
          "data": {
            "text/plain": [
              "<Figure size 432x288 with 1 Axes>"
            ],
            "image/png": "[encoded data removed]"
          },
          "metadata": {
            "needs_background": "light"
          }
        }
      ]
    },
    {
      "cell_type": "code",
      "source": [
        "df2[df2['통증기간(월)'] > 120]['연령']"
      ],
      "metadata": {
        "id": "yV50tnHpLtDz",
        "colab": {
          "base_uri": "https://localhost:8080/"
        },
        "outputId": "5c26abbf-a0ed-4d63-95ba-ece9b709a67f"
      },
      "execution_count": 20,
      "outputs": [
        {
          "output_type": "execute_result",
          "data": {
            "text/plain": [
              "1326    46\n",
              "1480    61\n",
              "1618    68\n",
              "1808    55\n",
              "Name: 연령, dtype: int64"
            ]
          },
          "metadata": {},
          "execution_count": 20
        }
      ]
    },
    {
      "cell_type": "markdown",
      "source": [
        "환자 통증기간의 이상치 확인을 위해 10년 이상 통증을 느낀 환자들의 연령을 확인 해봤다. 연령을 확인하니 환자들의 나이는 최소 46, 최대 68로 10년 이상 통증을 지녀 왔다고 이해가 가능한 나이이다.\n",
        "\n",
        "따라서 통증기간(월)은 이상치가 없다."
      ],
      "metadata": {
        "id": "7H0zNch2Om_y"
      }
    },
    {
      "cell_type": "markdown",
      "source": [
        "퇴원일자"
      ],
      "metadata": {
        "id": "Ktz0RAjRPl8j"
      }
    },
    {
      "cell_type": "code",
      "source": [
        "df2['퇴원일자'].plot.box()"
      ],
      "metadata": {
        "id": "SfTpe1L0PS_6",
        "colab": {
          "base_uri": "https://localhost:8080/",
          "height": 591
        },
        "outputId": "db907f76-1eb0-4b60-aed5-ea4b1fb12774"
      },
      "execution_count": 21,
      "outputs": [
        {
          "output_type": "execute_result",
          "data": {
            "text/plain": [
              "<matplotlib.axes._subplots.AxesSubplot at 0x7f3fa3c01290>"
            ]
          },
          "metadata": {},
          "execution_count": 21
        },
        {
          "output_type": "stream",
          "name": "stderr",
          "text": [
            "/usr/local/lib/python3.7/dist-packages/matplotlib/backends/backend_agg.py:214: RuntimeWarning: Glyph 53748 missing from current font.\n",
            "  font.set_text(s, 0.0, flags=flags)\n",
            "/usr/local/lib/python3.7/dist-packages/matplotlib/backends/backend_agg.py:214: RuntimeWarning: Glyph 50896 missing from current font.\n",
            "  font.set_text(s, 0.0, flags=flags)\n",
            "/usr/local/lib/python3.7/dist-packages/matplotlib/backends/backend_agg.py:214: RuntimeWarning: Glyph 51068 missing from current font.\n",
            "  font.set_text(s, 0.0, flags=flags)\n",
            "/usr/local/lib/python3.7/dist-packages/matplotlib/backends/backend_agg.py:214: RuntimeWarning: Glyph 51088 missing from current font.\n",
            "  font.set_text(s, 0.0, flags=flags)\n",
            "/usr/local/lib/python3.7/dist-packages/matplotlib/backends/backend_agg.py:183: RuntimeWarning: Glyph 53748 missing from current font.\n",
            "  font.set_text(s, 0, flags=flags)\n",
            "/usr/local/lib/python3.7/dist-packages/matplotlib/backends/backend_agg.py:183: RuntimeWarning: Glyph 50896 missing from current font.\n",
            "  font.set_text(s, 0, flags=flags)\n",
            "/usr/local/lib/python3.7/dist-packages/matplotlib/backends/backend_agg.py:183: RuntimeWarning: Glyph 51068 missing from current font.\n",
            "  font.set_text(s, 0, flags=flags)\n",
            "/usr/local/lib/python3.7/dist-packages/matplotlib/backends/backend_agg.py:183: RuntimeWarning: Glyph 51088 missing from current font.\n",
            "  font.set_text(s, 0, flags=flags)\n"
          ]
        },
        {
          "output_type": "display_data",
          "data": {
            "text/plain": [
              "<Figure size 432x288 with 1 Axes>"
            ],
            "image/png": "[encoded data removed]"
          },
          "metadata": {
            "needs_background": "light"
          }
        }
      ]
    },
    {
      "cell_type": "markdown",
      "source": [
        "퇴원일자는 이상치가 없다."
      ],
      "metadata": {
        "id": "A0K5l_UKPkVl"
      }
    },
    {
      "cell_type": "markdown",
      "source": [
        "체중"
      ],
      "metadata": {
        "id": "B3KWYz4IPs-L"
      }
    },
    {
      "cell_type": "code",
      "source": [
        "df2['체중'].plot.box()"
      ],
      "metadata": {
        "id": "VgUXjVK_Pv-z",
        "colab": {
          "base_uri": "https://localhost:8080/",
          "height": 433
        },
        "outputId": "332c4f55-2151-4e00-d6e2-45a752a78ec8"
      },
      "execution_count": 22,
      "outputs": [
        {
          "output_type": "execute_result",
          "data": {
            "text/plain": [
              "<matplotlib.axes._subplots.AxesSubplot at 0x7f3fa3b70bd0>"
            ]
          },
          "metadata": {},
          "execution_count": 22
        },
        {
          "output_type": "stream",
          "name": "stderr",
          "text": [
            "/usr/local/lib/python3.7/dist-packages/matplotlib/backends/backend_agg.py:214: RuntimeWarning: Glyph 52404 missing from current font.\n",
            "  font.set_text(s, 0.0, flags=flags)\n",
            "/usr/local/lib/python3.7/dist-packages/matplotlib/backends/backend_agg.py:214: RuntimeWarning: Glyph 51473 missing from current font.\n",
            "  font.set_text(s, 0.0, flags=flags)\n",
            "/usr/local/lib/python3.7/dist-packages/matplotlib/backends/backend_agg.py:183: RuntimeWarning: Glyph 52404 missing from current font.\n",
            "  font.set_text(s, 0, flags=flags)\n",
            "/usr/local/lib/python3.7/dist-packages/matplotlib/backends/backend_agg.py:183: RuntimeWarning: Glyph 51473 missing from current font.\n",
            "  font.set_text(s, 0, flags=flags)\n"
          ]
        },
        {
          "output_type": "display_data",
          "data": {
            "text/plain": [
              "<Figure size 432x288 with 1 Axes>"
            ],
            "image/png": "[encoded data removed]"
          },
          "metadata": {
            "needs_background": "light"
          }
        }
      ]
    },
    {
      "cell_type": "code",
      "source": [
        "df2[df2['체중']>100][['신장','체중']]"
      ],
      "metadata": {
        "id": "HeHHuyfDP49c",
        "colab": {
          "base_uri": "https://localhost:8080/",
          "height": 363
        },
        "outputId": "4decccc0-66b5-47d7-b048-c9629223acea"
      },
      "execution_count": 23,
      "outputs": [
        {
          "output_type": "execute_result",
          "data": {
            "text/plain": [
              "       신장     체중\n",
              "853   185  110.0\n",
              "929   181  113.0\n",
              "942   183  104.0\n",
              "994   177  103.0\n",
              "1246  191  114.0\n",
              "1409  176  106.0\n",
              "1579  204  103.0\n",
              "1638  185  110.0\n",
              "1840  181  113.0\n",
              "1866  183  104.0"
            ],
            "text/html": [
              "\n",
              "  <div id=\"df-f6bc5b0a-fe97-4027-82c7-0125c5f9c3e0\">\n",
              "    <div class=\"colab-df-container\">\n",
              "      <div>\n",
              "<style scoped>\n",
              "    .dataframe tbody tr th:only-of-type {\n",
              "        vertical-align: middle;\n",
              "    }\n",
              "\n",
              "    .dataframe tbody tr th {\n",
              "        vertical-align: top;\n",
              "    }\n",
              "\n",
              "    .dataframe thead th {\n",
              "        text-align: right;\n",
              "    }\n",
              "</style>\n",
              "<table border=\"1\" class=\"dataframe\">\n",
              "  <thead>\n",
              "    <tr style=\"text-align: right;\">\n",
              "      <th></th>\n",
              "      <th>신장</th>\n",
              "      <th>체중</th>\n",
              "    </tr>\n",
              "  </thead>\n",
              "  <tbody>\n",
              "    <tr>\n",
              "      <th>853</th>\n",
              "      <td>185</td>\n",
              "      <td>110.0</td>\n",
              "    </tr>\n",
              "    <tr>\n",
              "      <th>929</th>\n",
              "      <td>181</td>\n",
              "      <td>113.0</td>\n",
              "    </tr>\n",
              "    <tr>\n",
              "      <th>942</th>\n",
              "      <td>183</td>\n",
              "      <td>104.0</td>\n",
              "    </tr>\n",
              "    <tr>\n",
              "      <th>994</th>\n",
              "      <td>177</td>\n",
              "      <td>103.0</td>\n",
              "    </tr>\n",
              "    <tr>\n",
              "      <th>1246</th>\n",
              "      <td>191</td>\n",
              "      <td>114.0</td>\n",
              "    </tr>\n",
              "    <tr>\n",
              "      <th>1409</th>\n",
              "      <td>176</td>\n",
              "      <td>106.0</td>\n",
              "    </tr>\n",
              "    <tr>\n",
              "      <th>1579</th>\n",
              "      <td>204</td>\n",
              "      <td>103.0</td>\n",
              "    </tr>\n",
              "    <tr>\n",
              "      <th>1638</th>\n",
              "      <td>185</td>\n",
              "      <td>110.0</td>\n",
              "    </tr>\n",
              "    <tr>\n",
              "      <th>1840</th>\n",
              "      <td>181</td>\n",
              "      <td>113.0</td>\n",
              "    </tr>\n",
              "    <tr>\n",
              "      <th>1866</th>\n",
              "      <td>183</td>\n",
              "      <td>104.0</td>\n",
              "    </tr>\n",
              "  </tbody>\n",
              "</table>\n",
              "</div>\n",
              "      <button class=\"colab-df-convert\" onclick=\"convertToInteractive('df-f6bc5b0a-fe97-4027-82c7-0125c5f9c3e0')\"\n",
              "              title=\"Convert this dataframe to an interactive table.\"\n",
              "              style=\"display:none;\">\n",
              "        \n",
              "  <svg xmlns=\"http://www.w3.org/2000/svg\" height=\"24px\"viewBox=\"0 0 24 24\"\n",
              "       width=\"24px\">\n",
              "    <path d=\"M0 0h24v24H0V0z\" fill=\"none\"/>\n",
              "    <path d=\"M18.56 5.44l.94 2.06.94-2.06 2.06-.94-2.06-.94-.94-2.06-.94 2.06-2.06.94zm-11 1L8.5 8.5l.94-2.06 2.06-.94-2.06-.94L8.5 2.5l-.94 2.06-2.06.94zm10 10l.94 2.06.94-2.06 2.06-.94-2.06-.94-.94-2.06-.94 2.06-2.06.94z\"/><path d=\"M17.41 7.96l-1.37-1.37c-.4-.4-.92-.59-1.43-.59-.52 0-1.04.2-1.43.59L10.3 9.45l-7.72 7.72c-.78.78-.78 2.05 0 2.83L4 21.41c.39.39.9.59 1.41.59.51 0 1.02-.2 1.41-.59l7.78-7.78 2.81-2.81c.8-.78.8-2.07 0-2.86zM5.41 20L4 18.59l7.72-7.72 1.47 1.35L5.41 20z\"/>\n",
              "  </svg>\n",
              "      </button>\n",
              "      \n",
              "  <style>\n",
              "    .colab-df-container {\n",
              "      display:flex;\n",
              "      flex-wrap:wrap;\n",
              "      gap: 12px;\n",
              "    }\n",
              "\n",
              "    .colab-df-convert {\n",
              "      background-color: #E8F0FE;\n",
              "      border: none;\n",
              "      border-radius: 50%;\n",
              "      cursor: pointer;\n",
              "      display: none;\n",
              "      fill: #1967D2;\n",
              "      height: 32px;\n",
              "      padding: 0 0 0 0;\n",
              "      width: 32px;\n",
              "    }\n",
              "\n",
              "    .colab-df-convert:hover {\n",
              "      background-color: #E2EBFA;\n",
              "      box-shadow: 0px 1px 2px rgba(60, 64, 67, 0.3), 0px 1px 3px 1px rgba(60, 64, 67, 0.15);\n",
              "      fill: #174EA6;\n",
              "    }\n",
              "\n",
              "    [theme=dark] .colab-df-convert {\n",
              "      background-color: #3B4455;\n",
              "      fill: #D2E3FC;\n",
              "    }\n",
              "\n",
              "    [theme=dark] .colab-df-convert:hover {\n",
              "      background-color: #434B5C;\n",
              "      box-shadow: 0px 1px 3px 1px rgba(0, 0, 0, 0.15);\n",
              "      filter: drop-shadow(0px 1px 2px rgba(0, 0, 0, 0.3));\n",
              "      fill: #FFFFFF;\n",
              "    }\n",
              "  </style>\n",
              "\n",
              "      <script>\n",
              "        const buttonEl =\n",
              "          document.querySelector('#df-f6bc5b0a-fe97-4027-82c7-0125c5f9c3e0 button.colab-df-convert');\n",
              "        buttonEl.style.display =\n",
              "          google.colab.kernel.accessAllowed ? 'block' : 'none';\n",
              "\n",
              "        async function convertToInteractive(key) {\n",
              "          const element = document.querySelector('#df-f6bc5b0a-fe97-4027-82c7-0125c5f9c3e0');\n",
              "          const dataTable =\n",
              "            await google.colab.kernel.invokeFunction('convertToInteractive',\n",
              "                                                     [key], {});\n",
              "          if (!dataTable) return;\n",
              "\n",
              "          const docLinkHtml = 'Like what you see? Visit the ' +\n",
              "            '<a target=\"_blank\" href=https://colab.research.google.com/notebooks/data_table.ipynb>data table notebook</a>'\n",
              "            + ' to learn more about interactive tables.';\n",
              "          element.innerHTML = '';\n",
              "          dataTable['output_type'] = 'display_data';\n",
              "          await google.colab.output.renderOutput(dataTable, element);\n",
              "          const docLink = document.createElement('div');\n",
              "          docLink.innerHTML = docLinkHtml;\n",
              "          element.appendChild(docLink);\n",
              "        }\n",
              "      </script>\n",
              "    </div>\n",
              "  </div>\n",
              "  "
            ]
          },
          "metadata": {},
          "execution_count": 23
        }
      ]
    },
    {
      "cell_type": "code",
      "source": [
        "df2[df2['체중']<40][['신장','체중']]"
      ],
      "metadata": {
        "id": "FU0g0ID9QFeD",
        "colab": {
          "base_uri": "https://localhost:8080/",
          "height": 143
        },
        "outputId": "ae407a70-ef0d-4e97-afad-db1f6f06aafa"
      },
      "execution_count": 24,
      "outputs": [
        {
          "output_type": "execute_result",
          "data": {
            "text/plain": [
              "       신장    체중\n",
              "896   140  35.0\n",
              "1166  162  38.0\n",
              "1763  140  35.0"
            ],
            "text/html": [
              "\n",
              "  <div id=\"df-fc27f509-0089-4eb7-ad71-5a81015bf033\">\n",
              "    <div class=\"colab-df-container\">\n",
              "      <div>\n",
              "<style scoped>\n",
              "    .dataframe tbody tr th:only-of-type {\n",
              "        vertical-align: middle;\n",
              "    }\n",
              "\n",
              "    .dataframe tbody tr th {\n",
              "        vertical-align: top;\n",
              "    }\n",
              "\n",
              "    .dataframe thead th {\n",
              "        text-align: right;\n",
              "    }\n",
              "</style>\n",
              "<table border=\"1\" class=\"dataframe\">\n",
              "  <thead>\n",
              "    <tr style=\"text-align: right;\">\n",
              "      <th></th>\n",
              "      <th>신장</th>\n",
              "      <th>체중</th>\n",
              "    </tr>\n",
              "  </thead>\n",
              "  <tbody>\n",
              "    <tr>\n",
              "      <th>896</th>\n",
              "      <td>140</td>\n",
              "      <td>35.0</td>\n",
              "    </tr>\n",
              "    <tr>\n",
              "      <th>1166</th>\n",
              "      <td>162</td>\n",
              "      <td>38.0</td>\n",
              "    </tr>\n",
              "    <tr>\n",
              "      <th>1763</th>\n",
              "      <td>140</td>\n",
              "      <td>35.0</td>\n",
              "    </tr>\n",
              "  </tbody>\n",
              "</table>\n",
              "</div>\n",
              "      <button class=\"colab-df-convert\" onclick=\"convertToInteractive('df-fc27f509-0089-4eb7-ad71-5a81015bf033')\"\n",
              "              title=\"Convert this dataframe to an interactive table.\"\n",
              "              style=\"display:none;\">\n",
              "        \n",
              "  <svg xmlns=\"http://www.w3.org/2000/svg\" height=\"24px\"viewBox=\"0 0 24 24\"\n",
              "       width=\"24px\">\n",
              "    <path d=\"M0 0h24v24H0V0z\" fill=\"none\"/>\n",
              "    <path d=\"M18.56 5.44l.94 2.06.94-2.06 2.06-.94-2.06-.94-.94-2.06-.94 2.06-2.06.94zm-11 1L8.5 8.5l.94-2.06 2.06-.94-2.06-.94L8.5 2.5l-.94 2.06-2.06.94zm10 10l.94 2.06.94-2.06 2.06-.94-2.06-.94-.94-2.06-.94 2.06-2.06.94z\"/><path d=\"M17.41 7.96l-1.37-1.37c-.4-.4-.92-.59-1.43-.59-.52 0-1.04.2-1.43.59L10.3 9.45l-7.72 7.72c-.78.78-.78 2.05 0 2.83L4 21.41c.39.39.9.59 1.41.59.51 0 1.02-.2 1.41-.59l7.78-7.78 2.81-2.81c.8-.78.8-2.07 0-2.86zM5.41 20L4 18.59l7.72-7.72 1.47 1.35L5.41 20z\"/>\n",
              "  </svg>\n",
              "      </button>\n",
              "      \n",
              "  <style>\n",
              "    .colab-df-container {\n",
              "      display:flex;\n",
              "      flex-wrap:wrap;\n",
              "      gap: 12px;\n",
              "    }\n",
              "\n",
              "    .colab-df-convert {\n",
              "      background-color: #E8F0FE;\n",
              "      border: none;\n",
              "      border-radius: 50%;\n",
              "      cursor: pointer;\n",
              "      display: none;\n",
              "      fill: #1967D2;\n",
              "      height: 32px;\n",
              "      padding: 0 0 0 0;\n",
              "      width: 32px;\n",
              "    }\n",
              "\n",
              "    .colab-df-convert:hover {\n",
              "      background-color: #E2EBFA;\n",
              "      box-shadow: 0px 1px 2px rgba(60, 64, 67, 0.3), 0px 1px 3px 1px rgba(60, 64, 67, 0.15);\n",
              "      fill: #174EA6;\n",
              "    }\n",
              "\n",
              "    [theme=dark] .colab-df-convert {\n",
              "      background-color: #3B4455;\n",
              "      fill: #D2E3FC;\n",
              "    }\n",
              "\n",
              "    [theme=dark] .colab-df-convert:hover {\n",
              "      background-color: #434B5C;\n",
              "      box-shadow: 0px 1px 3px 1px rgba(0, 0, 0, 0.15);\n",
              "      filter: drop-shadow(0px 1px 2px rgba(0, 0, 0, 0.3));\n",
              "      fill: #FFFFFF;\n",
              "    }\n",
              "  </style>\n",
              "\n",
              "      <script>\n",
              "        const buttonEl =\n",
              "          document.querySelector('#df-fc27f509-0089-4eb7-ad71-5a81015bf033 button.colab-df-convert');\n",
              "        buttonEl.style.display =\n",
              "          google.colab.kernel.accessAllowed ? 'block' : 'none';\n",
              "\n",
              "        async function convertToInteractive(key) {\n",
              "          const element = document.querySelector('#df-fc27f509-0089-4eb7-ad71-5a81015bf033');\n",
              "          const dataTable =\n",
              "            await google.colab.kernel.invokeFunction('convertToInteractive',\n",
              "                                                     [key], {});\n",
              "          if (!dataTable) return;\n",
              "\n",
              "          const docLinkHtml = 'Like what you see? Visit the ' +\n",
              "            '<a target=\"_blank\" href=https://colab.research.google.com/notebooks/data_table.ipynb>data table notebook</a>'\n",
              "            + ' to learn more about interactive tables.';\n",
              "          element.innerHTML = '';\n",
              "          dataTable['output_type'] = 'display_data';\n",
              "          await google.colab.output.renderOutput(dataTable, element);\n",
              "          const docLink = document.createElement('div');\n",
              "          docLink.innerHTML = docLinkHtml;\n",
              "          element.appendChild(docLink);\n",
              "        }\n",
              "      </script>\n",
              "    </div>\n",
              "  </div>\n",
              "  "
            ]
          },
          "metadata": {},
          "execution_count": 24
        }
      ]
    },
    {
      "cell_type": "markdown",
      "source": [
        "이상치로 의심되는 100kg 이상의 환자들과 40kg 이하 환자들의 신장을 살펴보았다. 신장 대비로 봤을때 몸무게가 모두 있을법 하다. \n",
        "\n",
        "따라서 체중에는 이상치가 없다."
      ],
      "metadata": {
        "id": "IvuPQDBwQJSx"
      }
    },
    {
      "cell_type": "markdown",
      "source": [
        "우울증 여부"
      ],
      "metadata": {
        "id": "am9Dv7CXRfrN"
      }
    },
    {
      "cell_type": "code",
      "source": [
        "df2['우울증여부'].unique()"
      ],
      "metadata": {
        "id": "29xhl45nQY4P",
        "colab": {
          "base_uri": "https://localhost:8080/"
        },
        "outputId": "f1ed723f-aa68-4649-ae31-fb67a8ae2701"
      },
      "execution_count": 25,
      "outputs": [
        {
          "output_type": "execute_result",
          "data": {
            "text/plain": [
              "array([0, 1, 2])"
            ]
          },
          "metadata": {},
          "execution_count": 25
        }
      ]
    },
    {
      "cell_type": "code",
      "source": [
        "df2[df2['우울증여부'] == 2]"
      ],
      "metadata": {
        "id": "b5vX-SB3Qh9_",
        "colab": {
          "base_uri": "https://localhost:8080/",
          "height": 330
        },
        "outputId": "941117a5-1fb7-460b-dcd4-6c7e1a823657"
      },
      "execution_count": 26,
      "outputs": [
        {
          "output_type": "execute_result",
          "data": {
            "text/plain": [
              "      환자ID  Large Lymphocyte  Location of herniation   ODI  가족력  간질성폐질환  \\\n",
              "646  647PT              53.1                       2  none  0.0       0   \n",
              "\n",
              "     고혈압여부  과거수술횟수  당뇨여부  말초동맥질환여부  ...      입원일자  종양진행여부   직업    체중  \\\n",
              "646      0       0     0         0  ...  20200629       0  사업가  66.0   \n",
              "\n",
              "         퇴원일자  헤모글로빈수치  혈전합병증여부  환자통증정도  흡연여부  통증기간(월)  \n",
              "646  20200630    14.74        0       2     0      1.0  \n",
              "\n",
              "[1 rows x 30 columns]"
            ],
            "text/html": [
              "\n",
              "  <div id=\"df-1586ae5a-6698-46b9-9410-fa84f0db00da\">\n",
              "    <div class=\"colab-df-container\">\n",
              "      <div>\n",
              "<style scoped>\n",
              "    .dataframe tbody tr th:only-of-type {\n",
              "        vertical-align: middle;\n",
              "    }\n",
              "\n",
              "    .dataframe tbody tr th {\n",
              "        vertical-align: top;\n",
              "    }\n",
              "\n",
              "    .dataframe thead th {\n",
              "        text-align: right;\n",
              "    }\n",
              "</style>\n",
              "<table border=\"1\" class=\"dataframe\">\n",
              "  <thead>\n",
              "    <tr style=\"text-align: right;\">\n",
              "      <th></th>\n",
              "      <th>환자ID</th>\n",
              "      <th>Large Lymphocyte</th>\n",
              "      <th>Location of herniation</th>\n",
              "      <th>ODI</th>\n",
              "      <th>가족력</th>\n",
              "      <th>간질성폐질환</th>\n",
              "      <th>고혈압여부</th>\n",
              "      <th>과거수술횟수</th>\n",
              "      <th>당뇨여부</th>\n",
              "      <th>말초동맥질환여부</th>\n",
              "      <th>...</th>\n",
              "      <th>입원일자</th>\n",
              "      <th>종양진행여부</th>\n",
              "      <th>직업</th>\n",
              "      <th>체중</th>\n",
              "      <th>퇴원일자</th>\n",
              "      <th>헤모글로빈수치</th>\n",
              "      <th>혈전합병증여부</th>\n",
              "      <th>환자통증정도</th>\n",
              "      <th>흡연여부</th>\n",
              "      <th>통증기간(월)</th>\n",
              "    </tr>\n",
              "  </thead>\n",
              "  <tbody>\n",
              "    <tr>\n",
              "      <th>646</th>\n",
              "      <td>647PT</td>\n",
              "      <td>53.1</td>\n",
              "      <td>2</td>\n",
              "      <td>none</td>\n",
              "      <td>0.0</td>\n",
              "      <td>0</td>\n",
              "      <td>0</td>\n",
              "      <td>0</td>\n",
              "      <td>0</td>\n",
              "      <td>0</td>\n",
              "      <td>...</td>\n",
              "      <td>20200629</td>\n",
              "      <td>0</td>\n",
              "      <td>사업가</td>\n",
              "      <td>66.0</td>\n",
              "      <td>20200630</td>\n",
              "      <td>14.74</td>\n",
              "      <td>0</td>\n",
              "      <td>2</td>\n",
              "      <td>0</td>\n",
              "      <td>1.0</td>\n",
              "    </tr>\n",
              "  </tbody>\n",
              "</table>\n",
              "<p>1 rows × 30 columns</p>\n",
              "</div>\n",
              "      <button class=\"colab-df-convert\" onclick=\"convertToInteractive('df-1586ae5a-6698-46b9-9410-fa84f0db00da')\"\n",
              "              title=\"Convert this dataframe to an interactive table.\"\n",
              "              style=\"display:none;\">\n",
              "        \n",
              "  <svg xmlns=\"http://www.w3.org/2000/svg\" height=\"24px\"viewBox=\"0 0 24 24\"\n",
              "       width=\"24px\">\n",
              "    <path d=\"M0 0h24v24H0V0z\" fill=\"none\"/>\n",
              "    <path d=\"M18.56 5.44l.94 2.06.94-2.06 2.06-.94-2.06-.94-.94-2.06-.94 2.06-2.06.94zm-11 1L8.5 8.5l.94-2.06 2.06-.94-2.06-.94L8.5 2.5l-.94 2.06-2.06.94zm10 10l.94 2.06.94-2.06 2.06-.94-2.06-.94-.94-2.06-.94 2.06-2.06.94z\"/><path d=\"M17.41 7.96l-1.37-1.37c-.4-.4-.92-.59-1.43-.59-.52 0-1.04.2-1.43.59L10.3 9.45l-7.72 7.72c-.78.78-.78 2.05 0 2.83L4 21.41c.39.39.9.59 1.41.59.51 0 1.02-.2 1.41-.59l7.78-7.78 2.81-2.81c.8-.78.8-2.07 0-2.86zM5.41 20L4 18.59l7.72-7.72 1.47 1.35L5.41 20z\"/>\n",
              "  </svg>\n",
              "      </button>\n",
              "      \n",
              "  <style>\n",
              "    .colab-df-container {\n",
              "      display:flex;\n",
              "      flex-wrap:wrap;\n",
              "      gap: 12px;\n",
              "    }\n",
              "\n",
              "    .colab-df-convert {\n",
              "      background-color: #E8F0FE;\n",
              "      border: none;\n",
              "      border-radius: 50%;\n",
              "      cursor: pointer;\n",
              "      display: none;\n",
              "      fill: #1967D2;\n",
              "      height: 32px;\n",
              "      padding: 0 0 0 0;\n",
              "      width: 32px;\n",
              "    }\n",
              "\n",
              "    .colab-df-convert:hover {\n",
              "      background-color: #E2EBFA;\n",
              "      box-shadow: 0px 1px 2px rgba(60, 64, 67, 0.3), 0px 1px 3px 1px rgba(60, 64, 67, 0.15);\n",
              "      fill: #174EA6;\n",
              "    }\n",
              "\n",
              "    [theme=dark] .colab-df-convert {\n",
              "      background-color: #3B4455;\n",
              "      fill: #D2E3FC;\n",
              "    }\n",
              "\n",
              "    [theme=dark] .colab-df-convert:hover {\n",
              "      background-color: #434B5C;\n",
              "      box-shadow: 0px 1px 3px 1px rgba(0, 0, 0, 0.15);\n",
              "      filter: drop-shadow(0px 1px 2px rgba(0, 0, 0, 0.3));\n",
              "      fill: #FFFFFF;\n",
              "    }\n",
              "  </style>\n",
              "\n",
              "      <script>\n",
              "        const buttonEl =\n",
              "          document.querySelector('#df-1586ae5a-6698-46b9-9410-fa84f0db00da button.colab-df-convert');\n",
              "        buttonEl.style.display =\n",
              "          google.colab.kernel.accessAllowed ? 'block' : 'none';\n",
              "\n",
              "        async function convertToInteractive(key) {\n",
              "          const element = document.querySelector('#df-1586ae5a-6698-46b9-9410-fa84f0db00da');\n",
              "          const dataTable =\n",
              "            await google.colab.kernel.invokeFunction('convertToInteractive',\n",
              "                                                     [key], {});\n",
              "          if (!dataTable) return;\n",
              "\n",
              "          const docLinkHtml = 'Like what you see? Visit the ' +\n",
              "            '<a target=\"_blank\" href=https://colab.research.google.com/notebooks/data_table.ipynb>data table notebook</a>'\n",
              "            + ' to learn more about interactive tables.';\n",
              "          element.innerHTML = '';\n",
              "          dataTable['output_type'] = 'display_data';\n",
              "          await google.colab.output.renderOutput(dataTable, element);\n",
              "          const docLink = document.createElement('div');\n",
              "          docLink.innerHTML = docLinkHtml;\n",
              "          element.appendChild(docLink);\n",
              "        }\n",
              "      </script>\n",
              "    </div>\n",
              "  </div>\n",
              "  "
            ]
          },
          "metadata": {},
          "execution_count": 26
        }
      ]
    },
    {
      "cell_type": "code",
      "source": [
        "df2 = df2[df2['우울증여부'] != 2]"
      ],
      "metadata": {
        "id": "Y7ATSFzSQ9_d"
      },
      "execution_count": 27,
      "outputs": []
    },
    {
      "cell_type": "markdown",
      "source": [
        "우울증 여부는 있으면 1, 없으면 0으로 나타냈다. 데이터 중 2라고 입력된 값은 입력 오류로 보인다. \n",
        "\n",
        "따라서 우울증 여부의 이상치를 삭제해준다. "
      ],
      "metadata": {
        "id": "uCXU0GMAQnu5"
      }
    },
    {
      "cell_type": "markdown",
      "source": [
        "흡연여부, 혈전합병증여부, 종양진행여부"
      ],
      "metadata": {
        "id": "-m-ksuHURii8"
      }
    },
    {
      "cell_type": "code",
      "source": [
        "df2['흡연여부'].unique()"
      ],
      "metadata": {
        "id": "m0N-ax8zRE7y",
        "colab": {
          "base_uri": "https://localhost:8080/"
        },
        "outputId": "fb324138-12e3-4e32-a81c-9908fd85b1b0"
      },
      "execution_count": 28,
      "outputs": [
        {
          "output_type": "execute_result",
          "data": {
            "text/plain": [
              "array([0, 1])"
            ]
          },
          "metadata": {},
          "execution_count": 28
        }
      ]
    },
    {
      "cell_type": "code",
      "source": [
        "df2['혈전합병증여부'].unique()"
      ],
      "metadata": {
        "id": "BNC1bCKpQ8xI",
        "colab": {
          "base_uri": "https://localhost:8080/"
        },
        "outputId": "cad50148-0be3-44ca-de79-edb11cc5d771"
      },
      "execution_count": 29,
      "outputs": [
        {
          "output_type": "execute_result",
          "data": {
            "text/plain": [
              "array([0, 1])"
            ]
          },
          "metadata": {},
          "execution_count": 29
        }
      ]
    },
    {
      "cell_type": "code",
      "source": [
        "df2['종양진행여부'].unique()"
      ],
      "metadata": {
        "id": "nEpuQ6m_RN6e",
        "colab": {
          "base_uri": "https://localhost:8080/"
        },
        "outputId": "baaeb468-6c13-4f40-9943-878ad746b274"
      },
      "execution_count": 30,
      "outputs": [
        {
          "output_type": "execute_result",
          "data": {
            "text/plain": [
              "array([0, 1])"
            ]
          },
          "metadata": {},
          "execution_count": 30
        }
      ]
    },
    {
      "cell_type": "markdown",
      "source": [
        "흡연여부, 혈전 합병증 여부, 종양 진행 여부 모두 0과 1로 구성되어 이상치가 없다. \n"
      ],
      "metadata": {
        "id": "2RSj1RWXRQIC"
      }
    },
    {
      "cell_type": "markdown",
      "source": [
        "Large Lymphocyte 대림프구"
      ],
      "metadata": {
        "id": "sdYqiVawcmdD"
      }
    },
    {
      "cell_type": "code",
      "source": [
        "df2['Large Lymphocyte'].plot.box()"
      ],
      "metadata": {
        "id": "DhS_RisORnkD",
        "colab": {
          "base_uri": "https://localhost:8080/",
          "height": 283
        },
        "outputId": "defb38ef-b617-42ee-8473-661304a2af79"
      },
      "execution_count": 31,
      "outputs": [
        {
          "output_type": "execute_result",
          "data": {
            "text/plain": [
              "<matplotlib.axes._subplots.AxesSubplot at 0x7f3fa3aeb5d0>"
            ]
          },
          "metadata": {},
          "execution_count": 31
        },
        {
          "output_type": "display_data",
          "data": {
            "text/plain": [
              "<Figure size 432x288 with 1 Axes>"
            ],
            "image/png": "[encoded data removed]"
          },
          "metadata": {
            "needs_background": "light"
          }
        }
      ]
    },
    {
      "cell_type": "code",
      "source": [
        "df2['Large Lymphocyte'].describe()"
      ],
      "metadata": {
        "id": "ai7rVyRxcuYt",
        "colab": {
          "base_uri": "https://localhost:8080/"
        },
        "outputId": "5389b479-9dc9-4968-b212-4e51d58eeeef"
      },
      "execution_count": 32,
      "outputs": [
        {
          "output_type": "execute_result",
          "data": {
            "text/plain": [
              "count    1892.000000\n",
              "mean       39.282611\n",
              "std        13.653951\n",
              "min         0.000000\n",
              "25%        30.700000\n",
              "50%        40.200000\n",
              "75%        48.600000\n",
              "max        89.000000\n",
              "Name: Large Lymphocyte, dtype: float64"
            ]
          },
          "metadata": {},
          "execution_count": 32
        }
      ]
    },
    {
      "cell_type": "code",
      "source": [
        "df2[df2['Large Lymphocyte']> (48.6 + 1.5 * (48.6-30.7))][['Large Lymphocyte']]"
      ],
      "metadata": {
        "id": "zR4eeBmlc3aq",
        "colab": {
          "base_uri": "https://localhost:8080/",
          "height": 363
        },
        "outputId": "4293c617-6d63-4a20-cf6c-be4008a31e7d"
      },
      "execution_count": 33,
      "outputs": [
        {
          "output_type": "execute_result",
          "data": {
            "text/plain": [
              "      Large Lymphocyte\n",
              "8                 89.0\n",
              "54                86.1\n",
              "63                75.7\n",
              "478               89.0\n",
              "524               86.1\n",
              "533               75.7\n",
              "948               89.0\n",
              "972               89.0\n",
              "1065              86.1\n",
              "1078              75.7"
            ],
            "text/html": [
              "\n",
              "  <div id=\"df-26a34dcc-e1e4-4536-bce4-4d77658ad6e0\">\n",
              "    <div class=\"colab-df-container\">\n",
              "      <div>\n",
              "<style scoped>\n",
              "    .dataframe tbody tr th:only-of-type {\n",
              "        vertical-align: middle;\n",
              "    }\n",
              "\n",
              "    .dataframe tbody tr th {\n",
              "        vertical-align: top;\n",
              "    }\n",
              "\n",
              "    .dataframe thead th {\n",
              "        text-align: right;\n",
              "    }\n",
              "</style>\n",
              "<table border=\"1\" class=\"dataframe\">\n",
              "  <thead>\n",
              "    <tr style=\"text-align: right;\">\n",
              "      <th></th>\n",
              "      <th>Large Lymphocyte</th>\n",
              "    </tr>\n",
              "  </thead>\n",
              "  <tbody>\n",
              "    <tr>\n",
              "      <th>8</th>\n",
              "      <td>89.0</td>\n",
              "    </tr>\n",
              "    <tr>\n",
              "      <th>54</th>\n",
              "      <td>86.1</td>\n",
              "    </tr>\n",
              "    <tr>\n",
              "      <th>63</th>\n",
              "      <td>75.7</td>\n",
              "    </tr>\n",
              "    <tr>\n",
              "      <th>478</th>\n",
              "      <td>89.0</td>\n",
              "    </tr>\n",
              "    <tr>\n",
              "      <th>524</th>\n",
              "      <td>86.1</td>\n",
              "    </tr>\n",
              "    <tr>\n",
              "      <th>533</th>\n",
              "      <td>75.7</td>\n",
              "    </tr>\n",
              "    <tr>\n",
              "      <th>948</th>\n",
              "      <td>89.0</td>\n",
              "    </tr>\n",
              "    <tr>\n",
              "      <th>972</th>\n",
              "      <td>89.0</td>\n",
              "    </tr>\n",
              "    <tr>\n",
              "      <th>1065</th>\n",
              "      <td>86.1</td>\n",
              "    </tr>\n",
              "    <tr>\n",
              "      <th>1078</th>\n",
              "      <td>75.7</td>\n",
              "    </tr>\n",
              "  </tbody>\n",
              "</table>\n",
              "</div>\n",
              "      <button class=\"colab-df-convert\" onclick=\"convertToInteractive('df-26a34dcc-e1e4-4536-bce4-4d77658ad6e0')\"\n",
              "              title=\"Convert this dataframe to an interactive table.\"\n",
              "              style=\"display:none;\">\n",
              "        \n",
              "  <svg xmlns=\"http://www.w3.org/2000/svg\" height=\"24px\"viewBox=\"0 0 24 24\"\n",
              "       width=\"24px\">\n",
              "    <path d=\"M0 0h24v24H0V0z\" fill=\"none\"/>\n",
              "    <path d=\"M18.56 5.44l.94 2.06.94-2.06 2.06-.94-2.06-.94-.94-2.06-.94 2.06-2.06.94zm-11 1L8.5 8.5l.94-2.06 2.06-.94-2.06-.94L8.5 2.5l-.94 2.06-2.06.94zm10 10l.94 2.06.94-2.06 2.06-.94-2.06-.94-.94-2.06-.94 2.06-2.06.94z\"/><path d=\"M17.41 7.96l-1.37-1.37c-.4-.4-.92-.59-1.43-.59-.52 0-1.04.2-1.43.59L10.3 9.45l-7.72 7.72c-.78.78-.78 2.05 0 2.83L4 21.41c.39.39.9.59 1.41.59.51 0 1.02-.2 1.41-.59l7.78-7.78 2.81-2.81c.8-.78.8-2.07 0-2.86zM5.41 20L4 18.59l7.72-7.72 1.47 1.35L5.41 20z\"/>\n",
              "  </svg>\n",
              "      </button>\n",
              "      \n",
              "  <style>\n",
              "    .colab-df-container {\n",
              "      display:flex;\n",
              "      flex-wrap:wrap;\n",
              "      gap: 12px;\n",
              "    }\n",
              "\n",
              "    .colab-df-convert {\n",
              "      background-color: #E8F0FE;\n",
              "      border: none;\n",
              "      border-radius: 50%;\n",
              "      cursor: pointer;\n",
              "      display: none;\n",
              "      fill: #1967D2;\n",
              "      height: 32px;\n",
              "      padding: 0 0 0 0;\n",
              "      width: 32px;\n",
              "    }\n",
              "\n",
              "    .colab-df-convert:hover {\n",
              "      background-color: #E2EBFA;\n",
              "      box-shadow: 0px 1px 2px rgba(60, 64, 67, 0.3), 0px 1px 3px 1px rgba(60, 64, 67, 0.15);\n",
              "      fill: #174EA6;\n",
              "    }\n",
              "\n",
              "    [theme=dark] .colab-df-convert {\n",
              "      background-color: #3B4455;\n",
              "      fill: #D2E3FC;\n",
              "    }\n",
              "\n",
              "    [theme=dark] .colab-df-convert:hover {\n",
              "      background-color: #434B5C;\n",
              "      box-shadow: 0px 1px 3px 1px rgba(0, 0, 0, 0.15);\n",
              "      filter: drop-shadow(0px 1px 2px rgba(0, 0, 0, 0.3));\n",
              "      fill: #FFFFFF;\n",
              "    }\n",
              "  </style>\n",
              "\n",
              "      <script>\n",
              "        const buttonEl =\n",
              "          document.querySelector('#df-26a34dcc-e1e4-4536-bce4-4d77658ad6e0 button.colab-df-convert');\n",
              "        buttonEl.style.display =\n",
              "          google.colab.kernel.accessAllowed ? 'block' : 'none';\n",
              "\n",
              "        async function convertToInteractive(key) {\n",
              "          const element = document.querySelector('#df-26a34dcc-e1e4-4536-bce4-4d77658ad6e0');\n",
              "          const dataTable =\n",
              "            await google.colab.kernel.invokeFunction('convertToInteractive',\n",
              "                                                     [key], {});\n",
              "          if (!dataTable) return;\n",
              "\n",
              "          const docLinkHtml = 'Like what you see? Visit the ' +\n",
              "            '<a target=\"_blank\" href=https://colab.research.google.com/notebooks/data_table.ipynb>data table notebook</a>'\n",
              "            + ' to learn more about interactive tables.';\n",
              "          element.innerHTML = '';\n",
              "          dataTable['output_type'] = 'display_data';\n",
              "          await google.colab.output.renderOutput(dataTable, element);\n",
              "          const docLink = document.createElement('div');\n",
              "          docLink.innerHTML = docLinkHtml;\n",
              "          element.appendChild(docLink);\n",
              "        }\n",
              "      </script>\n",
              "    </div>\n",
              "  </div>\n",
              "  "
            ]
          },
          "metadata": {},
          "execution_count": 33
        }
      ]
    },
    {
      "cell_type": "code",
      "source": [
        "df2[df2['Large Lymphocyte']< (30.7 - 1.5 * (48.6-30.7))][['Large Lymphocyte']]"
      ],
      "metadata": {
        "id": "kxCHqquJduHT",
        "colab": {
          "base_uri": "https://localhost:8080/",
          "height": 802
        },
        "outputId": "9a91f495-f4f3-40e8-b5a8-a64546d84432"
      },
      "execution_count": 34,
      "outputs": [
        {
          "output_type": "execute_result",
          "data": {
            "text/plain": [
              "      Large Lymphocyte\n",
              "151                1.9\n",
              "188                3.0\n",
              "206                1.8\n",
              "246                2.1\n",
              "312                1.4\n",
              "446                0.0\n",
              "621                1.9\n",
              "658                3.0\n",
              "676                1.8\n",
              "716                2.1\n",
              "782                1.4\n",
              "916                0.0\n",
              "1188               2.6\n",
              "1210               3.3\n",
              "1215               1.2\n",
              "1252               1.9\n",
              "1343               2.0\n",
              "1378               1.8\n",
              "1453               2.3\n",
              "1467               2.1\n",
              "1491               2.3\n",
              "1578               1.4\n",
              "1815               2.1\n",
              "1837               0.0"
            ],
            "text/html": [
              "\n",
              "  <div id=\"df-eb2f9a3a-db0f-4426-9519-b6f3b0ed1f2b\">\n",
              "    <div class=\"colab-df-container\">\n",
              "      <div>\n",
              "<style scoped>\n",
              "    .dataframe tbody tr th:only-of-type {\n",
              "        vertical-align: middle;\n",
              "    }\n",
              "\n",
              "    .dataframe tbody tr th {\n",
              "        vertical-align: top;\n",
              "    }\n",
              "\n",
              "    .dataframe thead th {\n",
              "        text-align: right;\n",
              "    }\n",
              "</style>\n",
              "<table border=\"1\" class=\"dataframe\">\n",
              "  <thead>\n",
              "    <tr style=\"text-align: right;\">\n",
              "      <th></th>\n",
              "      <th>Large Lymphocyte</th>\n",
              "    </tr>\n",
              "  </thead>\n",
              "  <tbody>\n",
              "    <tr>\n",
              "      <th>151</th>\n",
              "      <td>1.9</td>\n",
              "    </tr>\n",
              "    <tr>\n",
              "      <th>188</th>\n",
              "      <td>3.0</td>\n",
              "    </tr>\n",
              "    <tr>\n",
              "      <th>206</th>\n",
              "      <td>1.8</td>\n",
              "    </tr>\n",
              "    <tr>\n",
              "      <th>246</th>\n",
              "      <td>2.1</td>\n",
              "    </tr>\n",
              "    <tr>\n",
              "      <th>312</th>\n",
              "      <td>1.4</td>\n",
              "    </tr>\n",
              "    <tr>\n",
              "      <th>446</th>\n",
              "      <td>0.0</td>\n",
              "    </tr>\n",
              "    <tr>\n",
              "      <th>621</th>\n",
              "      <td>1.9</td>\n",
              "    </tr>\n",
              "    <tr>\n",
              "      <th>658</th>\n",
              "      <td>3.0</td>\n",
              "    </tr>\n",
              "    <tr>\n",
              "      <th>676</th>\n",
              "      <td>1.8</td>\n",
              "    </tr>\n",
              "    <tr>\n",
              "      <th>716</th>\n",
              "      <td>2.1</td>\n",
              "    </tr>\n",
              "    <tr>\n",
              "      <th>782</th>\n",
              "      <td>1.4</td>\n",
              "    </tr>\n",
              "    <tr>\n",
              "      <th>916</th>\n",
              "      <td>0.0</td>\n",
              "    </tr>\n",
              "    <tr>\n",
              "      <th>1188</th>\n",
              "      <td>2.6</td>\n",
              "    </tr>\n",
              "    <tr>\n",
              "      <th>1210</th>\n",
              "      <td>3.3</td>\n",
              "    </tr>\n",
              "    <tr>\n",
              "      <th>1215</th>\n",
              "      <td>1.2</td>\n",
              "    </tr>\n",
              "    <tr>\n",
              "      <th>1252</th>\n",
              "      <td>1.9</td>\n",
              "    </tr>\n",
              "    <tr>\n",
              "      <th>1343</th>\n",
              "      <td>2.0</td>\n",
              "    </tr>\n",
              "    <tr>\n",
              "      <th>1378</th>\n",
              "      <td>1.8</td>\n",
              "    </tr>\n",
              "    <tr>\n",
              "      <th>1453</th>\n",
              "      <td>2.3</td>\n",
              "    </tr>\n",
              "    <tr>\n",
              "      <th>1467</th>\n",
              "      <td>2.1</td>\n",
              "    </tr>\n",
              "    <tr>\n",
              "      <th>1491</th>\n",
              "      <td>2.3</td>\n",
              "    </tr>\n",
              "    <tr>\n",
              "      <th>1578</th>\n",
              "      <td>1.4</td>\n",
              "    </tr>\n",
              "    <tr>\n",
              "      <th>1815</th>\n",
              "      <td>2.1</td>\n",
              "    </tr>\n",
              "    <tr>\n",
              "      <th>1837</th>\n",
              "      <td>0.0</td>\n",
              "    </tr>\n",
              "  </tbody>\n",
              "</table>\n",
              "</div>\n",
              "      <button class=\"colab-df-convert\" onclick=\"convertToInteractive('df-eb2f9a3a-db0f-4426-9519-b6f3b0ed1f2b')\"\n",
              "              title=\"Convert this dataframe to an interactive table.\"\n",
              "              style=\"display:none;\">\n",
              "        \n",
              "  <svg xmlns=\"http://www.w3.org/2000/svg\" height=\"24px\"viewBox=\"0 0 24 24\"\n",
              "       width=\"24px\">\n",
              "    <path d=\"M0 0h24v24H0V0z\" fill=\"none\"/>\n",
              "    <path d=\"M18.56 5.44l.94 2.06.94-2.06 2.06-.94-2.06-.94-.94-2.06-.94 2.06-2.06.94zm-11 1L8.5 8.5l.94-2.06 2.06-.94-2.06-.94L8.5 2.5l-.94 2.06-2.06.94zm10 10l.94 2.06.94-2.06 2.06-.94-2.06-.94-.94-2.06-.94 2.06-2.06.94z\"/><path d=\"M17.41 7.96l-1.37-1.37c-.4-.4-.92-.59-1.43-.59-.52 0-1.04.2-1.43.59L10.3 9.45l-7.72 7.72c-.78.78-.78 2.05 0 2.83L4 21.41c.39.39.9.59 1.41.59.51 0 1.02-.2 1.41-.59l7.78-7.78 2.81-2.81c.8-.78.8-2.07 0-2.86zM5.41 20L4 18.59l7.72-7.72 1.47 1.35L5.41 20z\"/>\n",
              "  </svg>\n",
              "      </button>\n",
              "      \n",
              "  <style>\n",
              "    .colab-df-container {\n",
              "      display:flex;\n",
              "      flex-wrap:wrap;\n",
              "      gap: 12px;\n",
              "    }\n",
              "\n",
              "    .colab-df-convert {\n",
              "      background-color: #E8F0FE;\n",
              "      border: none;\n",
              "      border-radius: 50%;\n",
              "      cursor: pointer;\n",
              "      display: none;\n",
              "      fill: #1967D2;\n",
              "      height: 32px;\n",
              "      padding: 0 0 0 0;\n",
              "      width: 32px;\n",
              "    }\n",
              "\n",
              "    .colab-df-convert:hover {\n",
              "      background-color: #E2EBFA;\n",
              "      box-shadow: 0px 1px 2px rgba(60, 64, 67, 0.3), 0px 1px 3px 1px rgba(60, 64, 67, 0.15);\n",
              "      fill: #174EA6;\n",
              "    }\n",
              "\n",
              "    [theme=dark] .colab-df-convert {\n",
              "      background-color: #3B4455;\n",
              "      fill: #D2E3FC;\n",
              "    }\n",
              "\n",
              "    [theme=dark] .colab-df-convert:hover {\n",
              "      background-color: #434B5C;\n",
              "      box-shadow: 0px 1px 3px 1px rgba(0, 0, 0, 0.15);\n",
              "      filter: drop-shadow(0px 1px 2px rgba(0, 0, 0, 0.3));\n",
              "      fill: #FFFFFF;\n",
              "    }\n",
              "  </style>\n",
              "\n",
              "      <script>\n",
              "        const buttonEl =\n",
              "          document.querySelector('#df-eb2f9a3a-db0f-4426-9519-b6f3b0ed1f2b button.colab-df-convert');\n",
              "        buttonEl.style.display =\n",
              "          google.colab.kernel.accessAllowed ? 'block' : 'none';\n",
              "\n",
              "        async function convertToInteractive(key) {\n",
              "          const element = document.querySelector('#df-eb2f9a3a-db0f-4426-9519-b6f3b0ed1f2b');\n",
              "          const dataTable =\n",
              "            await google.colab.kernel.invokeFunction('convertToInteractive',\n",
              "                                                     [key], {});\n",
              "          if (!dataTable) return;\n",
              "\n",
              "          const docLinkHtml = 'Like what you see? Visit the ' +\n",
              "            '<a target=\"_blank\" href=https://colab.research.google.com/notebooks/data_table.ipynb>data table notebook</a>'\n",
              "            + ' to learn more about interactive tables.';\n",
              "          element.innerHTML = '';\n",
              "          dataTable['output_type'] = 'display_data';\n",
              "          await google.colab.output.renderOutput(dataTable, element);\n",
              "          const docLink = document.createElement('div');\n",
              "          docLink.innerHTML = docLinkHtml;\n",
              "          element.appendChild(docLink);\n",
              "        }\n",
              "      </script>\n",
              "    </div>\n",
              "  </div>\n",
              "  "
            ]
          },
          "metadata": {},
          "execution_count": 34
        }
      ]
    },
    {
      "cell_type": "code",
      "source": [
        "df2 = df2[df2['Large Lymphocyte']!=0]"
      ],
      "metadata": {
        "id": "0yd2FsGMgJky"
      },
      "execution_count": 35,
      "outputs": []
    },
    {
      "cell_type": "markdown",
      "source": [
        "대리림프구의 크기가 0인 경우는 존재할 수 없으므로 이상치로 판단하여 삭제한다. "
      ],
      "metadata": {
        "id": "FpOgpeSugTfB"
      }
    },
    {
      "cell_type": "markdown",
      "source": [
        "디스크 탈출 위치"
      ],
      "metadata": {
        "id": "30afphLJhoVY"
      }
    },
    {
      "cell_type": "code",
      "source": [
        "df2['Location of herniation'].unique()"
      ],
      "metadata": {
        "id": "OLcGpvAKgd9o",
        "colab": {
          "base_uri": "https://localhost:8080/"
        },
        "outputId": "5f21cb4a-de59-478f-f6e4-ca52bc6a21b9"
      },
      "execution_count": 36,
      "outputs": [
        {
          "output_type": "execute_result",
          "data": {
            "text/plain": [
              "array([3, 4, 2, 5, 1])"
            ]
          },
          "metadata": {},
          "execution_count": 36
        }
      ]
    },
    {
      "cell_type": "markdown",
      "source": [
        "디스크 탈출 위치 이상치 없음"
      ],
      "metadata": {
        "id": "2odTSQDwhuul"
      }
    },
    {
      "cell_type": "markdown",
      "source": [
        "## 이미지데이터"
      ],
      "metadata": {
        "id": "jojZAv6tnMUu"
      }
    },
    {
      "cell_type": "code",
      "source": [
        "df1.isnull().sum()"
      ],
      "metadata": {
        "id": "cgEEM7b3kRBt",
        "colab": {
          "base_uri": "https://localhost:8080/"
        },
        "outputId": "825f48b2-c6c3-4482-cedf-bb5125015d8e"
      },
      "execution_count": 37,
      "outputs": [
        {
          "output_type": "execute_result",
          "data": {
            "text/plain": [
              "환자ID                0\n",
              "전방디스크높이(mm)         0\n",
              "후방디스크높이(mm)         0\n",
              "지방축적도               3\n",
              "Instability         0\n",
              "MF + ES             0\n",
              "Modic change        0\n",
              "PI                  4\n",
              "PT                  4\n",
              "Seg Angle(raw)      1\n",
              "Vaccum disc         0\n",
              "골밀도               896\n",
              "디스크단면적              1\n",
              "디스크위치               0\n",
              "척추이동척도              0\n",
              "척추전방위증              0\n",
              "dtype: int64"
            ]
          },
          "metadata": {},
          "execution_count": 37
        }
      ]
    },
    {
      "cell_type": "code",
      "source": [
        "df1.info()"
      ],
      "metadata": {
        "id": "uzjQbmham16U",
        "colab": {
          "base_uri": "https://localhost:8080/"
        },
        "outputId": "e95630ee-65d6-4a95-da62-7dca94f57b8d"
      },
      "execution_count": 38,
      "outputs": [
        {
          "output_type": "stream",
          "name": "stdout",
          "text": [
            "<class 'pandas.core.frame.DataFrame'>\n",
            "RangeIndex: 1894 entries, 0 to 1893\n",
            "Data columns (total 16 columns):\n",
            " #   Column          Non-Null Count  Dtype  \n",
            "---  ------          --------------  -----  \n",
            " 0   환자ID            1894 non-null   object \n",
            " 1   전방디스크높이(mm)     1894 non-null   float64\n",
            " 2   후방디스크높이(mm)     1894 non-null   float64\n",
            " 3   지방축적도           1891 non-null   float64\n",
            " 4   Instability     1894 non-null   int64  \n",
            " 5   MF + ES         1894 non-null   float64\n",
            " 6   Modic change    1894 non-null   int64  \n",
            " 7   PI              1890 non-null   float64\n",
            " 8   PT              1890 non-null   float64\n",
            " 9   Seg Angle(raw)  1893 non-null   float64\n",
            " 10  Vaccum disc     1894 non-null   int64  \n",
            " 11  골밀도             998 non-null    float64\n",
            " 12  디스크단면적          1893 non-null   float64\n",
            " 13  디스크위치           1894 non-null   int64  \n",
            " 14  척추이동척도          1894 non-null   object \n",
            " 15  척추전방위증          1894 non-null   int64  \n",
            "dtypes: float64(9), int64(5), object(2)\n",
            "memory usage: 236.9+ KB\n"
          ]
        }
      ]
    },
    {
      "cell_type": "code",
      "source": [
        "df1['MF + ES'].plot.box()"
      ],
      "metadata": {
        "id": "jP6-gXnOnXAo",
        "colab": {
          "base_uri": "https://localhost:8080/",
          "height": 283
        },
        "outputId": "44155246-250c-4a2d-e758-09ef065cdb4c"
      },
      "execution_count": 39,
      "outputs": [
        {
          "output_type": "execute_result",
          "data": {
            "text/plain": [
              "<matplotlib.axes._subplots.AxesSubplot at 0x7f3fa3adef10>"
            ]
          },
          "metadata": {},
          "execution_count": 39
        },
        {
          "output_type": "display_data",
          "data": {
            "text/plain": [
              "<Figure size 432x288 with 1 Axes>"
            ],
            "image/png": "[encoded data removed]"
          },
          "metadata": {
            "needs_background": "light"
          }
        }
      ]
    },
    {
      "cell_type": "code",
      "source": [
        "df1['MF + ES'].describe()"
      ],
      "metadata": {
        "colab": {
          "base_uri": "https://localhost:8080/"
        },
        "id": "XM25TXYXAiZ5",
        "outputId": "1c2a9ae6-56a8-401f-c0a5-efeeea247e9c"
      },
      "execution_count": 40,
      "outputs": [
        {
          "output_type": "execute_result",
          "data": {
            "text/plain": [
              "count    1894.000000\n",
              "mean     2096.421600\n",
              "std       472.834488\n",
              "min      1016.800000\n",
              "25%      1765.285000\n",
              "50%      2056.500000\n",
              "75%      2374.350000\n",
              "max      5569.000000\n",
              "Name: MF + ES, dtype: float64"
            ]
          },
          "metadata": {},
          "execution_count": 40
        }
      ]
    },
    {
      "cell_type": "markdown",
      "source": [
        "이상치 예상값 확인하기"
      ],
      "metadata": {
        "id": "lyUd1dmRCBiC"
      }
    },
    {
      "cell_type": "code",
      "source": [
        "2374.35 + 1.5*(2374.35-1765.285)"
      ],
      "metadata": {
        "colab": {
          "base_uri": "https://localhost:8080/"
        },
        "id": "ESFETlXvBrks",
        "outputId": "44819968-f739-4905-801f-67e8708366a4"
      },
      "execution_count": 41,
      "outputs": [
        {
          "output_type": "execute_result",
          "data": {
            "text/plain": [
              "3287.9474999999998"
            ]
          },
          "metadata": {},
          "execution_count": 41
        }
      ]
    },
    {
      "cell_type": "code",
      "source": [
        "df1[df1['MF + ES']>3287.9474999999998]"
      ],
      "metadata": {
        "colab": {
          "base_uri": "https://localhost:8080/",
          "height": 1000
        },
        "id": "RzCI6TgtB_oa",
        "outputId": "8694c335-6949-4e55-e52a-e97fd09d7d76"
      },
      "execution_count": 42,
      "outputs": [
        {
          "output_type": "execute_result",
          "data": {
            "text/plain": [
              "        환자ID  전방디스크높이(mm)  후방디스크높이(mm)   지방축적도  Instability  MF + ES  \\\n",
              "43      44PT        11.19         8.79  107.51            0  3679.32   \n",
              "50      51PT        13.70         7.60  104.30            0  3755.40   \n",
              "60      61PT        15.60         7.60   72.50            0  3338.80   \n",
              "188    189PT        12.53        11.73   38.52            0  3703.75   \n",
              "313    314PT        15.30         7.00  280.50            0  3382.70   \n",
              "469    470PT        13.50         5.50  148.50            0  3864.10   \n",
              "513    514PT        11.19         8.79  107.51            0  3679.32   \n",
              "520    521PT        13.70         7.60  104.30            0  3755.40   \n",
              "530    531PT        15.60         7.60   72.50            0  3338.80   \n",
              "658    659PT        12.53        11.73   38.52            0  3703.75   \n",
              "783    784PT        15.30         7.00  280.50            0  3382.70   \n",
              "939    940PT        13.50         5.50  148.50            0  3864.10   \n",
              "1045  1046PT        11.19         8.79  107.51            0  3679.32   \n",
              "1058  1059PT        13.70         7.60  104.30            0  3755.40   \n",
              "1073  1074PT        15.60         7.60   72.50            0  3338.80   \n",
              "1199  1200PT        12.90        12.80  359.40            0  3594.70   \n",
              "1337  1338PT        12.53        11.73   38.52            0  3703.75   \n",
              "1523  1524PT         6.30         2.50  115.20            0  3315.70   \n",
              "1564  1565PT        13.20         8.80  177.60            0  3632.60   \n",
              "1579  1580PT        15.30         7.00  280.50            0  3382.70   \n",
              "1642  1643PT        13.70         7.50  190.40            0  3751.10   \n",
              "1812  1813PT         5.18         3.60   84.00            0  4292.00   \n",
              "1840  1841PT         9.10         7.59  120.00            0  5569.00   \n",
              "1868  1869PT        10.60         8.90   53.10            0  3422.30   \n",
              "1891  1892PT        13.50         5.50  148.50            0  3864.10   \n",
              "\n",
              "      Modic change    PI    PT  Seg Angle(raw)  Vaccum disc   골밀도   디스크단면적  \\\n",
              "43               0  47.0  16.0             3.0            1 -1.66  2345.14   \n",
              "50               0  44.1  20.5             4.7            0 -1.72  1899.30   \n",
              "60               0  42.5  11.4            12.8            0 -2.18  2291.70   \n",
              "188              0  43.2  31.2             4.7            0 -1.71  1977.50   \n",
              "313              3  35.1   6.3            21.2            0 -1.22  2587.80   \n",
              "469              0  44.6  15.0            17.4            1 -1.60  2624.40   \n",
              "513              0  47.0  16.0             3.0            1 -0.94  2345.14   \n",
              "520              0  44.1  20.5             4.7            0 -1.66  1899.30   \n",
              "530              0  42.5  11.4            12.8            0 -1.52  2291.70   \n",
              "658              0  43.2  31.2             4.7            0 -1.04  1977.50   \n",
              "783              3  35.1   6.3            21.2            0 -1.12  2587.80   \n",
              "939              0  44.6  15.0            17.4            1 -1.41  2624.40   \n",
              "1045             0  47.0  16.0             3.0            1   NaN  2345.14   \n",
              "1058             0  44.1  20.5             4.7            0   NaN  1899.30   \n",
              "1073             0  42.5  11.4            12.8            0   NaN  2291.70   \n",
              "1199             0  52.1  13.6            11.6            0   NaN  2208.60   \n",
              "1337             0  43.2  31.2             4.7            0   NaN  1977.50   \n",
              "1523             0  47.9  15.7             8.8            0   NaN  1891.30   \n",
              "1564             0  52.4   9.6            31.7            0   NaN  2089.30   \n",
              "1579             3  35.1   6.3            21.2            0   NaN  2587.80   \n",
              "1642             0  34.5   5.3            16.6            0   NaN  2396.10   \n",
              "1812             0  38.6   7.2            23.6            0   NaN  2108.00   \n",
              "1840             0  42.5   9.5            16.3            0   NaN  2310.00   \n",
              "1868             0  44.4  20.4            19.4            0   NaN  2099.50   \n",
              "1891             0  44.6  15.0            17.4            1   NaN  2624.40   \n",
              "\n",
              "      디스크위치          척추이동척도  척추전방위증  \n",
              "43        4            Down       0  \n",
              "50        4          Middle       0  \n",
              "60        4            Down       0  \n",
              "188       4          Middle       0  \n",
              "313       4          Middle       0  \n",
              "469       4            Down       0  \n",
              "513       4            Down       0  \n",
              "520       4          Middle       0  \n",
              "530       4            Down       0  \n",
              "658       4          Middle       0  \n",
              "783       4          Middle       0  \n",
              "939       4            Down       0  \n",
              "1045      5            Down       0  \n",
              "1058      4          Middle       0  \n",
              "1073      4            Down       0  \n",
              "1199      3            Down       0  \n",
              "1337      4          Middle       0  \n",
              "1523      3              Up       0  \n",
              "1564      4              Up       0  \n",
              "1579      4          Middle       0  \n",
              "1642      4          Middle       0  \n",
              "1812      4          Middle       0  \n",
              "1840      4          Middle       0  \n",
              "1868      4  Extremely down       0  \n",
              "1891      4            Down       0  "
            ],
            "text/html": [
              "\n",
              "  <div id=\"df-45b04382-c91f-4568-a4c9-dcaad2ecb69c\">\n",
              "    <div class=\"colab-df-container\">\n",
              "      <div>\n",
              "<style scoped>\n",
              "    .dataframe tbody tr th:only-of-type {\n",
              "        vertical-align: middle;\n",
              "    }\n",
              "\n",
              "    .dataframe tbody tr th {\n",
              "        vertical-align: top;\n",
              "    }\n",
              "\n",
              "    .dataframe thead th {\n",
              "        text-align: right;\n",
              "    }\n",
              "</style>\n",
              "<table border=\"1\" class=\"dataframe\">\n",
              "  <thead>\n",
              "    <tr style=\"text-align: right;\">\n",
              "      <th></th>\n",
              "      <th>환자ID</th>\n",
              "      <th>전방디스크높이(mm)</th>\n",
              "      <th>후방디스크높이(mm)</th>\n",
              "      <th>지방축적도</th>\n",
              "      <th>Instability</th>\n",
              "      <th>MF + ES</th>\n",
              "      <th>Modic change</th>\n",
              "      <th>PI</th>\n",
              "      <th>PT</th>\n",
              "      <th>Seg Angle(raw)</th>\n",
              "      <th>Vaccum disc</th>\n",
              "      <th>골밀도</th>\n",
              "      <th>디스크단면적</th>\n",
              "      <th>디스크위치</th>\n",
              "      <th>척추이동척도</th>\n",
              "      <th>척추전방위증</th>\n",
              "    </tr>\n",
              "  </thead>\n",
              "  <tbody>\n",
              "    <tr>\n",
              "      <th>43</th>\n",
              "      <td>44PT</td>\n",
              "      <td>11.19</td>\n",
              "      <td>8.79</td>\n",
              "      <td>107.51</td>\n",
              "      <td>0</td>\n",
              "      <td>3679.32</td>\n",
              "      <td>0</td>\n",
              "      <td>47.0</td>\n",
              "      <td>16.0</td>\n",
              "      <td>3.0</td>\n",
              "      <td>1</td>\n",
              "      <td>-1.66</td>\n",
              "      <td>2345.14</td>\n",
              "      <td>4</td>\n",
              "      <td>Down</td>\n",
              "      <td>0</td>\n",
              "    </tr>\n",
              "    <tr>\n",
              "      <th>50</th>\n",
              "      <td>51PT</td>\n",
              "      <td>13.70</td>\n",
              "      <td>7.60</td>\n",
              "      <td>104.30</td>\n",
              "      <td>0</td>\n",
              "      <td>3755.40</td>\n",
              "      <td>0</td>\n",
              "      <td>44.1</td>\n",
              "      <td>20.5</td>\n",
              "      <td>4.7</td>\n",
              "      <td>0</td>\n",
              "      <td>-1.72</td>\n",
              "      <td>1899.30</td>\n",
              "      <td>4</td>\n",
              "      <td>Middle</td>\n",
              "      <td>0</td>\n",
              "    </tr>\n",
              "    <tr>\n",
              "      <th>60</th>\n",
              "      <td>61PT</td>\n",
              "      <td>15.60</td>\n",
              "      <td>7.60</td>\n",
              "      <td>72.50</td>\n",
              "      <td>0</td>\n",
              "      <td>3338.80</td>\n",
              "      <td>0</td>\n",
              "      <td>42.5</td>\n",
              "      <td>11.4</td>\n",
              "      <td>12.8</td>\n",
              "      <td>0</td>\n",
              "      <td>-2.18</td>\n",
              "      <td>2291.70</td>\n",
              "      <td>4</td>\n",
              "      <td>Down</td>\n",
              "      <td>0</td>\n",
              "    </tr>\n",
              "    <tr>\n",
              "      <th>188</th>\n",
              "      <td>189PT</td>\n",
              "      <td>12.53</td>\n",
              "      <td>11.73</td>\n",
              "      <td>38.52</td>\n",
              "      <td>0</td>\n",
              "      <td>3703.75</td>\n",
              "      <td>0</td>\n",
              "      <td>43.2</td>\n",
              "      <td>31.2</td>\n",
              "      <td>4.7</td>\n",
              "      <td>0</td>\n",
              "      <td>-1.71</td>\n",
              "      <td>1977.50</td>\n",
              "      <td>4</td>\n",
              "      <td>Middle</td>\n",
              "      <td>0</td>\n",
              "    </tr>\n",
              "    <tr>\n",
              "      <th>313</th>\n",
              "      <td>314PT</td>\n",
              "      <td>15.30</td>\n",
              "      <td>7.00</td>\n",
              "      <td>280.50</td>\n",
              "      <td>0</td>\n",
              "      <td>3382.70</td>\n",
              "      <td>3</td>\n",
              "      <td>35.1</td>\n",
              "      <td>6.3</td>\n",
              "      <td>21.2</td>\n",
              "      <td>0</td>\n",
              "      <td>-1.22</td>\n",
              "      <td>2587.80</td>\n",
              "      <td>4</td>\n",
              "      <td>Middle</td>\n",
              "      <td>0</td>\n",
              "    </tr>\n",
              "    <tr>\n",
              "      <th>469</th>\n",
              "      <td>470PT</td>\n",
              "      <td>13.50</td>\n",
              "      <td>5.50</td>\n",
              "      <td>148.50</td>\n",
              "      <td>0</td>\n",
              "      <td>3864.10</td>\n",
              "      <td>0</td>\n",
              "      <td>44.6</td>\n",
              "      <td>15.0</td>\n",
              "      <td>17.4</td>\n",
              "      <td>1</td>\n",
              "      <td>-1.60</td>\n",
              "      <td>2624.40</td>\n",
              "      <td>4</td>\n",
              "      <td>Down</td>\n",
              "      <td>0</td>\n",
              "    </tr>\n",
              "    <tr>\n",
              "      <th>513</th>\n",
              "      <td>514PT</td>\n",
              "      <td>11.19</td>\n",
              "      <td>8.79</td>\n",
              "      <td>107.51</td>\n",
              "      <td>0</td>\n",
              "      <td>3679.32</td>\n",
              "      <td>0</td>\n",
              "      <td>47.0</td>\n",
              "      <td>16.0</td>\n",
              "      <td>3.0</td>\n",
              "      <td>1</td>\n",
              "      <td>-0.94</td>\n",
              "      <td>2345.14</td>\n",
              "      <td>4</td>\n",
              "      <td>Down</td>\n",
              "      <td>0</td>\n",
              "    </tr>\n",
              "    <tr>\n",
              "      <th>520</th>\n",
              "      <td>521PT</td>\n",
              "      <td>13.70</td>\n",
              "      <td>7.60</td>\n",
              "      <td>104.30</td>\n",
              "      <td>0</td>\n",
              "      <td>3755.40</td>\n",
              "      <td>0</td>\n",
              "      <td>44.1</td>\n",
              "      <td>20.5</td>\n",
              "      <td>4.7</td>\n",
              "      <td>0</td>\n",
              "      <td>-1.66</td>\n",
              "      <td>1899.30</td>\n",
              "      <td>4</td>\n",
              "      <td>Middle</td>\n",
              "      <td>0</td>\n",
              "    </tr>\n",
              "    <tr>\n",
              "      <th>530</th>\n",
              "      <td>531PT</td>\n",
              "      <td>15.60</td>\n",
              "      <td>7.60</td>\n",
              "      <td>72.50</td>\n",
              "      <td>0</td>\n",
              "      <td>3338.80</td>\n",
              "      <td>0</td>\n",
              "      <td>42.5</td>\n",
              "      <td>11.4</td>\n",
              "      <td>12.8</td>\n",
              "      <td>0</td>\n",
              "      <td>-1.52</td>\n",
              "      <td>2291.70</td>\n",
              "      <td>4</td>\n",
              "      <td>Down</td>\n",
              "      <td>0</td>\n",
              "    </tr>\n",
              "    <tr>\n",
              "      <th>658</th>\n",
              "      <td>659PT</td>\n",
              "      <td>12.53</td>\n",
              "      <td>11.73</td>\n",
              "      <td>38.52</td>\n",
              "      <td>0</td>\n",
              "      <td>3703.75</td>\n",
              "      <td>0</td>\n",
              "      <td>43.2</td>\n",
              "      <td>31.2</td>\n",
              "      <td>4.7</td>\n",
              "      <td>0</td>\n",
              "      <td>-1.04</td>\n",
              "      <td>1977.50</td>\n",
              "      <td>4</td>\n",
              "      <td>Middle</td>\n",
              "      <td>0</td>\n",
              "    </tr>\n",
              "    <tr>\n",
              "      <th>783</th>\n",
              "      <td>784PT</td>\n",
              "      <td>15.30</td>\n",
              "      <td>7.00</td>\n",
              "      <td>280.50</td>\n",
              "      <td>0</td>\n",
              "      <td>3382.70</td>\n",
              "      <td>3</td>\n",
              "      <td>35.1</td>\n",
              "      <td>6.3</td>\n",
              "      <td>21.2</td>\n",
              "      <td>0</td>\n",
              "      <td>-1.12</td>\n",
              "      <td>2587.80</td>\n",
              "      <td>4</td>\n",
              "      <td>Middle</td>\n",
              "      <td>0</td>\n",
              "    </tr>\n",
              "    <tr>\n",
              "      <th>939</th>\n",
              "      <td>940PT</td>\n",
              "      <td>13.50</td>\n",
              "      <td>5.50</td>\n",
              "      <td>148.50</td>\n",
              "      <td>0</td>\n",
              "      <td>3864.10</td>\n",
              "      <td>0</td>\n",
              "      <td>44.6</td>\n",
              "      <td>15.0</td>\n",
              "      <td>17.4</td>\n",
              "      <td>1</td>\n",
              "      <td>-1.41</td>\n",
              "      <td>2624.40</td>\n",
              "      <td>4</td>\n",
              "      <td>Down</td>\n",
              "      <td>0</td>\n",
              "    </tr>\n",
              "    <tr>\n",
              "      <th>1045</th>\n",
              "      <td>1046PT</td>\n",
              "      <td>11.19</td>\n",
              "      <td>8.79</td>\n",
              "      <td>107.51</td>\n",
              "      <td>0</td>\n",
              "      <td>3679.32</td>\n",
              "      <td>0</td>\n",
              "      <td>47.0</td>\n",
              "      <td>16.0</td>\n",
              "      <td>3.0</td>\n",
              "      <td>1</td>\n",
              "      <td>NaN</td>\n",
              "      <td>2345.14</td>\n",
              "      <td>5</td>\n",
              "      <td>Down</td>\n",
              "      <td>0</td>\n",
              "    </tr>\n",
              "    <tr>\n",
              "      <th>1058</th>\n",
              "      <td>1059PT</td>\n",
              "      <td>13.70</td>\n",
              "      <td>7.60</td>\n",
              "      <td>104.30</td>\n",
              "      <td>0</td>\n",
              "      <td>3755.40</td>\n",
              "      <td>0</td>\n",
              "      <td>44.1</td>\n",
              "      <td>20.5</td>\n",
              "      <td>4.7</td>\n",
              "      <td>0</td>\n",
              "      <td>NaN</td>\n",
              "      <td>1899.30</td>\n",
              "      <td>4</td>\n",
              "      <td>Middle</td>\n",
              "      <td>0</td>\n",
              "    </tr>\n",
              "    <tr>\n",
              "      <th>1073</th>\n",
              "      <td>1074PT</td>\n",
              "      <td>15.60</td>\n",
              "      <td>7.60</td>\n",
              "      <td>72.50</td>\n",
              "      <td>0</td>\n",
              "      <td>3338.80</td>\n",
              "      <td>0</td>\n",
              "      <td>42.5</td>\n",
              "      <td>11.4</td>\n",
              "      <td>12.8</td>\n",
              "      <td>0</td>\n",
              "      <td>NaN</td>\n",
              "      <td>2291.70</td>\n",
              "      <td>4</td>\n",
              "      <td>Down</td>\n",
              "      <td>0</td>\n",
              "    </tr>\n",
              "    <tr>\n",
              "      <th>1199</th>\n",
              "      <td>1200PT</td>\n",
              "      <td>12.90</td>\n",
              "      <td>12.80</td>\n",
              "      <td>359.40</td>\n",
              "      <td>0</td>\n",
              "      <td>3594.70</td>\n",
              "      <td>0</td>\n",
              "      <td>52.1</td>\n",
              "      <td>13.6</td>\n",
              "      <td>11.6</td>\n",
              "      <td>0</td>\n",
              "      <td>NaN</td>\n",
              "      <td>2208.60</td>\n",
              "      <td>3</td>\n",
              "      <td>Down</td>\n",
              "      <td>0</td>\n",
              "    </tr>\n",
              "    <tr>\n",
              "      <th>1337</th>\n",
              "      <td>1338PT</td>\n",
              "      <td>12.53</td>\n",
              "      <td>11.73</td>\n",
              "      <td>38.52</td>\n",
              "      <td>0</td>\n",
              "      <td>3703.75</td>\n",
              "      <td>0</td>\n",
              "      <td>43.2</td>\n",
              "      <td>31.2</td>\n",
              "      <td>4.7</td>\n",
              "      <td>0</td>\n",
              "      <td>NaN</td>\n",
              "      <td>1977.50</td>\n",
              "      <td>4</td>\n",
              "      <td>Middle</td>\n",
              "      <td>0</td>\n",
              "    </tr>\n",
              "    <tr>\n",
              "      <th>1523</th>\n",
              "      <td>1524PT</td>\n",
              "      <td>6.30</td>\n",
              "      <td>2.50</td>\n",
              "      <td>115.20</td>\n",
              "      <td>0</td>\n",
              "      <td>3315.70</td>\n",
              "      <td>0</td>\n",
              "      <td>47.9</td>\n",
              "      <td>15.7</td>\n",
              "      <td>8.8</td>\n",
              "      <td>0</td>\n",
              "      <td>NaN</td>\n",
              "      <td>1891.30</td>\n",
              "      <td>3</td>\n",
              "      <td>Up</td>\n",
              "      <td>0</td>\n",
              "    </tr>\n",
              "    <tr>\n",
              "      <th>1564</th>\n",
              "      <td>1565PT</td>\n",
              "      <td>13.20</td>\n",
              "      <td>8.80</td>\n",
              "      <td>177.60</td>\n",
              "      <td>0</td>\n",
              "      <td>3632.60</td>\n",
              "      <td>0</td>\n",
              "      <td>52.4</td>\n",
              "      <td>9.6</td>\n",
              "      <td>31.7</td>\n",
              "      <td>0</td>\n",
              "      <td>NaN</td>\n",
              "      <td>2089.30</td>\n",
              "      <td>4</td>\n",
              "      <td>Up</td>\n",
              "      <td>0</td>\n",
              "    </tr>\n",
              "    <tr>\n",
              "      <th>1579</th>\n",
              "      <td>1580PT</td>\n",
              "      <td>15.30</td>\n",
              "      <td>7.00</td>\n",
              "      <td>280.50</td>\n",
              "      <td>0</td>\n",
              "      <td>3382.70</td>\n",
              "      <td>3</td>\n",
              "      <td>35.1</td>\n",
              "      <td>6.3</td>\n",
              "      <td>21.2</td>\n",
              "      <td>0</td>\n",
              "      <td>NaN</td>\n",
              "      <td>2587.80</td>\n",
              "      <td>4</td>\n",
              "      <td>Middle</td>\n",
              "      <td>0</td>\n",
              "    </tr>\n",
              "    <tr>\n",
              "      <th>1642</th>\n",
              "      <td>1643PT</td>\n",
              "      <td>13.70</td>\n",
              "      <td>7.50</td>\n",
              "      <td>190.40</td>\n",
              "      <td>0</td>\n",
              "      <td>3751.10</td>\n",
              "      <td>0</td>\n",
              "      <td>34.5</td>\n",
              "      <td>5.3</td>\n",
              "      <td>16.6</td>\n",
              "      <td>0</td>\n",
              "      <td>NaN</td>\n",
              "      <td>2396.10</td>\n",
              "      <td>4</td>\n",
              "      <td>Middle</td>\n",
              "      <td>0</td>\n",
              "    </tr>\n",
              "    <tr>\n",
              "      <th>1812</th>\n",
              "      <td>1813PT</td>\n",
              "      <td>5.18</td>\n",
              "      <td>3.60</td>\n",
              "      <td>84.00</td>\n",
              "      <td>0</td>\n",
              "      <td>4292.00</td>\n",
              "      <td>0</td>\n",
              "      <td>38.6</td>\n",
              "      <td>7.2</td>\n",
              "      <td>23.6</td>\n",
              "      <td>0</td>\n",
              "      <td>NaN</td>\n",
              "      <td>2108.00</td>\n",
              "      <td>4</td>\n",
              "      <td>Middle</td>\n",
              "      <td>0</td>\n",
              "    </tr>\n",
              "    <tr>\n",
              "      <th>1840</th>\n",
              "      <td>1841PT</td>\n",
              "      <td>9.10</td>\n",
              "      <td>7.59</td>\n",
              "      <td>120.00</td>\n",
              "      <td>0</td>\n",
              "      <td>5569.00</td>\n",
              "      <td>0</td>\n",
              "      <td>42.5</td>\n",
              "      <td>9.5</td>\n",
              "      <td>16.3</td>\n",
              "      <td>0</td>\n",
              "      <td>NaN</td>\n",
              "      <td>2310.00</td>\n",
              "      <td>4</td>\n",
              "      <td>Middle</td>\n",
              "      <td>0</td>\n",
              "    </tr>\n",
              "    <tr>\n",
              "      <th>1868</th>\n",
              "      <td>1869PT</td>\n",
              "      <td>10.60</td>\n",
              "      <td>8.90</td>\n",
              "      <td>53.10</td>\n",
              "      <td>0</td>\n",
              "      <td>3422.30</td>\n",
              "      <td>0</td>\n",
              "      <td>44.4</td>\n",
              "      <td>20.4</td>\n",
              "      <td>19.4</td>\n",
              "      <td>0</td>\n",
              "      <td>NaN</td>\n",
              "      <td>2099.50</td>\n",
              "      <td>4</td>\n",
              "      <td>Extremely down</td>\n",
              "      <td>0</td>\n",
              "    </tr>\n",
              "    <tr>\n",
              "      <th>1891</th>\n",
              "      <td>1892PT</td>\n",
              "      <td>13.50</td>\n",
              "      <td>5.50</td>\n",
              "      <td>148.50</td>\n",
              "      <td>0</td>\n",
              "      <td>3864.10</td>\n",
              "      <td>0</td>\n",
              "      <td>44.6</td>\n",
              "      <td>15.0</td>\n",
              "      <td>17.4</td>\n",
              "      <td>1</td>\n",
              "      <td>NaN</td>\n",
              "      <td>2624.40</td>\n",
              "      <td>4</td>\n",
              "      <td>Down</td>\n",
              "      <td>0</td>\n",
              "    </tr>\n",
              "  </tbody>\n",
              "</table>\n",
              "</div>\n",
              "      <button class=\"colab-df-convert\" onclick=\"convertToInteractive('df-45b04382-c91f-4568-a4c9-dcaad2ecb69c')\"\n",
              "              title=\"Convert this dataframe to an interactive table.\"\n",
              "              style=\"display:none;\">\n",
              "        \n",
              "  <svg xmlns=\"http://www.w3.org/2000/svg\" height=\"24px\"viewBox=\"0 0 24 24\"\n",
              "       width=\"24px\">\n",
              "    <path d=\"M0 0h24v24H0V0z\" fill=\"none\"/>\n",
              "    <path d=\"M18.56 5.44l.94 2.06.94-2.06 2.06-.94-2.06-.94-.94-2.06-.94 2.06-2.06.94zm-11 1L8.5 8.5l.94-2.06 2.06-.94-2.06-.94L8.5 2.5l-.94 2.06-2.06.94zm10 10l.94 2.06.94-2.06 2.06-.94-2.06-.94-.94-2.06-.94 2.06-2.06.94z\"/><path d=\"M17.41 7.96l-1.37-1.37c-.4-.4-.92-.59-1.43-.59-.52 0-1.04.2-1.43.59L10.3 9.45l-7.72 7.72c-.78.78-.78 2.05 0 2.83L4 21.41c.39.39.9.59 1.41.59.51 0 1.02-.2 1.41-.59l7.78-7.78 2.81-2.81c.8-.78.8-2.07 0-2.86zM5.41 20L4 18.59l7.72-7.72 1.47 1.35L5.41 20z\"/>\n",
              "  </svg>\n",
              "      </button>\n",
              "      \n",
              "  <style>\n",
              "    .colab-df-container {\n",
              "      display:flex;\n",
              "      flex-wrap:wrap;\n",
              "      gap: 12px;\n",
              "    }\n",
              "\n",
              "    .colab-df-convert {\n",
              "      background-color: #E8F0FE;\n",
              "      border: none;\n",
              "      border-radius: 50%;\n",
              "      cursor: pointer;\n",
              "      display: none;\n",
              "      fill: #1967D2;\n",
              "      height: 32px;\n",
              "      padding: 0 0 0 0;\n",
              "      width: 32px;\n",
              "    }\n",
              "\n",
              "    .colab-df-convert:hover {\n",
              "      background-color: #E2EBFA;\n",
              "      box-shadow: 0px 1px 2px rgba(60, 64, 67, 0.3), 0px 1px 3px 1px rgba(60, 64, 67, 0.15);\n",
              "      fill: #174EA6;\n",
              "    }\n",
              "\n",
              "    [theme=dark] .colab-df-convert {\n",
              "      background-color: #3B4455;\n",
              "      fill: #D2E3FC;\n",
              "    }\n",
              "\n",
              "    [theme=dark] .colab-df-convert:hover {\n",
              "      background-color: #434B5C;\n",
              "      box-shadow: 0px 1px 3px 1px rgba(0, 0, 0, 0.15);\n",
              "      filter: drop-shadow(0px 1px 2px rgba(0, 0, 0, 0.3));\n",
              "      fill: #FFFFFF;\n",
              "    }\n",
              "  </style>\n",
              "\n",
              "      <script>\n",
              "        const buttonEl =\n",
              "          document.querySelector('#df-45b04382-c91f-4568-a4c9-dcaad2ecb69c button.colab-df-convert');\n",
              "        buttonEl.style.display =\n",
              "          google.colab.kernel.accessAllowed ? 'block' : 'none';\n",
              "\n",
              "        async function convertToInteractive(key) {\n",
              "          const element = document.querySelector('#df-45b04382-c91f-4568-a4c9-dcaad2ecb69c');\n",
              "          const dataTable =\n",
              "            await google.colab.kernel.invokeFunction('convertToInteractive',\n",
              "                                                     [key], {});\n",
              "          if (!dataTable) return;\n",
              "\n",
              "          const docLinkHtml = 'Like what you see? Visit the ' +\n",
              "            '<a target=\"_blank\" href=https://colab.research.google.com/notebooks/data_table.ipynb>data table notebook</a>'\n",
              "            + ' to learn more about interactive tables.';\n",
              "          element.innerHTML = '';\n",
              "          dataTable['output_type'] = 'display_data';\n",
              "          await google.colab.output.renderOutput(dataTable, element);\n",
              "          const docLink = document.createElement('div');\n",
              "          docLink.innerHTML = docLinkHtml;\n",
              "          element.appendChild(docLink);\n",
              "        }\n",
              "      </script>\n",
              "    </div>\n",
              "  </div>\n",
              "  "
            ]
          },
          "metadata": {},
          "execution_count": 42
        }
      ]
    },
    {
      "cell_type": "code",
      "source": [
        ""
      ],
      "metadata": {
        "id": "7URlRePaCPy_"
      },
      "execution_count": 42,
      "outputs": []
    }
  ]
}